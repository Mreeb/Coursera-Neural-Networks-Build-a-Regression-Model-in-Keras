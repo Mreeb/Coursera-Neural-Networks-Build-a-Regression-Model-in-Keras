{
 "cells": [
  {
   "cell_type": "markdown",
   "id": "bb9844f8-4776-4b81-82cb-e97593b17df2",
   "metadata": {},
   "source": [
    "<h2>Regression Model with Keras</h2>\n",
    "<h3>Final peer graded Assignment</h3>\n"
   ]
  },
  {
   "cell_type": "code",
   "execution_count": 1,
   "id": "e6b39dd4-6857-4dc7-8ecd-a4adc288d2f5",
   "metadata": {},
   "outputs": [],
   "source": [
    "import pandas as pd \n",
    "import numpy as np"
   ]
  },
  {
   "cell_type": "markdown",
   "id": "da82a937-7aa0-4627-bd18-cf6a32ae8666",
   "metadata": {},
   "source": [
    "I will be using the same dataset provided in the Assignment.\n",
    "\n",
    "<strong>The dataset is about the compressive strength of different samples of concrete based on the volumes of the different ingredients that were used to make them. Ingredients include:</strong>\n",
    "\n",
    "<strong>1. Cement</strong>\n",
    "\n",
    "<strong>2. Blast Furnace Slag</strong>\n",
    "\n",
    "<strong>3. Fly Ash</strong>\n",
    "\n",
    "<strong>4. Water</strong>\n",
    "\n",
    "<strong>5. Superplasticizer</strong>\n",
    "\n",
    "<strong>6. Coarse Aggregate</strong>\n",
    "\n",
    "<strong>7. Fine Aggregate</strong>\n"
   ]
  },
  {
   "cell_type": "code",
   "execution_count": 2,
   "id": "b68f8ad0-017b-4313-a01b-d58690c00828",
   "metadata": {},
   "outputs": [
    {
     "data": {
      "text/html": [
       "<div>\n",
       "<style scoped>\n",
       "    .dataframe tbody tr th:only-of-type {\n",
       "        vertical-align: middle;\n",
       "    }\n",
       "\n",
       "    .dataframe tbody tr th {\n",
       "        vertical-align: top;\n",
       "    }\n",
       "\n",
       "    .dataframe thead th {\n",
       "        text-align: right;\n",
       "    }\n",
       "</style>\n",
       "<table border=\"1\" class=\"dataframe\">\n",
       "  <thead>\n",
       "    <tr style=\"text-align: right;\">\n",
       "      <th></th>\n",
       "      <th>Cement</th>\n",
       "      <th>Blast Furnace Slag</th>\n",
       "      <th>Fly Ash</th>\n",
       "      <th>Water</th>\n",
       "      <th>Superplasticizer</th>\n",
       "      <th>Coarse Aggregate</th>\n",
       "      <th>Fine Aggregate</th>\n",
       "      <th>Age</th>\n",
       "      <th>Strength</th>\n",
       "    </tr>\n",
       "  </thead>\n",
       "  <tbody>\n",
       "    <tr>\n",
       "      <th>0</th>\n",
       "      <td>540.0</td>\n",
       "      <td>0.0</td>\n",
       "      <td>0.0</td>\n",
       "      <td>162.0</td>\n",
       "      <td>2.5</td>\n",
       "      <td>1040.0</td>\n",
       "      <td>676.0</td>\n",
       "      <td>28</td>\n",
       "      <td>79.99</td>\n",
       "    </tr>\n",
       "    <tr>\n",
       "      <th>1</th>\n",
       "      <td>540.0</td>\n",
       "      <td>0.0</td>\n",
       "      <td>0.0</td>\n",
       "      <td>162.0</td>\n",
       "      <td>2.5</td>\n",
       "      <td>1055.0</td>\n",
       "      <td>676.0</td>\n",
       "      <td>28</td>\n",
       "      <td>61.89</td>\n",
       "    </tr>\n",
       "    <tr>\n",
       "      <th>2</th>\n",
       "      <td>332.5</td>\n",
       "      <td>142.5</td>\n",
       "      <td>0.0</td>\n",
       "      <td>228.0</td>\n",
       "      <td>0.0</td>\n",
       "      <td>932.0</td>\n",
       "      <td>594.0</td>\n",
       "      <td>270</td>\n",
       "      <td>40.27</td>\n",
       "    </tr>\n",
       "  </tbody>\n",
       "</table>\n",
       "</div>"
      ],
      "text/plain": [
       "   Cement  Blast Furnace Slag  Fly Ash  Water  Superplasticizer  \\\n",
       "0   540.0                 0.0      0.0  162.0               2.5   \n",
       "1   540.0                 0.0      0.0  162.0               2.5   \n",
       "2   332.5               142.5      0.0  228.0               0.0   \n",
       "\n",
       "   Coarse Aggregate  Fine Aggregate  Age  Strength  \n",
       "0            1040.0           676.0   28     79.99  \n",
       "1            1055.0           676.0   28     61.89  \n",
       "2             932.0           594.0  270     40.27  "
      ]
     },
     "execution_count": 2,
     "metadata": {},
     "output_type": "execute_result"
    }
   ],
   "source": [
    "concrete_data = pd.read_csv('concrete_data.csv')\n",
    "concrete_data.head(3)"
   ]
  },
  {
   "cell_type": "markdown",
   "id": "1a680f5a-469c-466c-bd24-162d3eb4b2f4",
   "metadata": {},
   "source": [
    "#### Let's check how many data points we have.\n"
   ]
  },
  {
   "cell_type": "code",
   "execution_count": 3,
   "id": "6a6d7a74-f955-4c33-919f-7e719e6ffe80",
   "metadata": {},
   "outputs": [
    {
     "data": {
      "text/plain": [
       "(1030, 9)"
      ]
     },
     "execution_count": 3,
     "metadata": {},
     "output_type": "execute_result"
    }
   ],
   "source": [
    "concrete_data.shape"
   ]
  },
  {
   "cell_type": "markdown",
   "id": "d27316d1-6bb1-4115-9189-25d2ccb0a0aa",
   "metadata": {},
   "source": [
    "let's see if we have any missing values"
   ]
  },
  {
   "cell_type": "code",
   "execution_count": 4,
   "id": "f0e72059-f8da-4fe1-9494-2ed1df4ab554",
   "metadata": {},
   "outputs": [
    {
     "data": {
      "text/html": [
       "<div>\n",
       "<style scoped>\n",
       "    .dataframe tbody tr th:only-of-type {\n",
       "        vertical-align: middle;\n",
       "    }\n",
       "\n",
       "    .dataframe tbody tr th {\n",
       "        vertical-align: top;\n",
       "    }\n",
       "\n",
       "    .dataframe thead th {\n",
       "        text-align: right;\n",
       "    }\n",
       "</style>\n",
       "<table border=\"1\" class=\"dataframe\">\n",
       "  <thead>\n",
       "    <tr style=\"text-align: right;\">\n",
       "      <th></th>\n",
       "      <th>Cement</th>\n",
       "      <th>Blast Furnace Slag</th>\n",
       "      <th>Fly Ash</th>\n",
       "      <th>Water</th>\n",
       "      <th>Superplasticizer</th>\n",
       "      <th>Coarse Aggregate</th>\n",
       "      <th>Fine Aggregate</th>\n",
       "      <th>Age</th>\n",
       "      <th>Strength</th>\n",
       "    </tr>\n",
       "  </thead>\n",
       "  <tbody>\n",
       "    <tr>\n",
       "      <th>count</th>\n",
       "      <td>1030.000000</td>\n",
       "      <td>1030.000000</td>\n",
       "      <td>1030.000000</td>\n",
       "      <td>1030.000000</td>\n",
       "      <td>1030.000000</td>\n",
       "      <td>1030.000000</td>\n",
       "      <td>1030.000000</td>\n",
       "      <td>1030.000000</td>\n",
       "      <td>1030.000000</td>\n",
       "    </tr>\n",
       "    <tr>\n",
       "      <th>mean</th>\n",
       "      <td>281.167864</td>\n",
       "      <td>73.895825</td>\n",
       "      <td>54.188350</td>\n",
       "      <td>181.567282</td>\n",
       "      <td>6.204660</td>\n",
       "      <td>972.918932</td>\n",
       "      <td>773.580485</td>\n",
       "      <td>45.662136</td>\n",
       "      <td>35.817961</td>\n",
       "    </tr>\n",
       "    <tr>\n",
       "      <th>std</th>\n",
       "      <td>104.506364</td>\n",
       "      <td>86.279342</td>\n",
       "      <td>63.997004</td>\n",
       "      <td>21.354219</td>\n",
       "      <td>5.973841</td>\n",
       "      <td>77.753954</td>\n",
       "      <td>80.175980</td>\n",
       "      <td>63.169912</td>\n",
       "      <td>16.705742</td>\n",
       "    </tr>\n",
       "    <tr>\n",
       "      <th>min</th>\n",
       "      <td>102.000000</td>\n",
       "      <td>0.000000</td>\n",
       "      <td>0.000000</td>\n",
       "      <td>121.800000</td>\n",
       "      <td>0.000000</td>\n",
       "      <td>801.000000</td>\n",
       "      <td>594.000000</td>\n",
       "      <td>1.000000</td>\n",
       "      <td>2.330000</td>\n",
       "    </tr>\n",
       "    <tr>\n",
       "      <th>25%</th>\n",
       "      <td>192.375000</td>\n",
       "      <td>0.000000</td>\n",
       "      <td>0.000000</td>\n",
       "      <td>164.900000</td>\n",
       "      <td>0.000000</td>\n",
       "      <td>932.000000</td>\n",
       "      <td>730.950000</td>\n",
       "      <td>7.000000</td>\n",
       "      <td>23.710000</td>\n",
       "    </tr>\n",
       "    <tr>\n",
       "      <th>50%</th>\n",
       "      <td>272.900000</td>\n",
       "      <td>22.000000</td>\n",
       "      <td>0.000000</td>\n",
       "      <td>185.000000</td>\n",
       "      <td>6.400000</td>\n",
       "      <td>968.000000</td>\n",
       "      <td>779.500000</td>\n",
       "      <td>28.000000</td>\n",
       "      <td>34.445000</td>\n",
       "    </tr>\n",
       "    <tr>\n",
       "      <th>75%</th>\n",
       "      <td>350.000000</td>\n",
       "      <td>142.950000</td>\n",
       "      <td>118.300000</td>\n",
       "      <td>192.000000</td>\n",
       "      <td>10.200000</td>\n",
       "      <td>1029.400000</td>\n",
       "      <td>824.000000</td>\n",
       "      <td>56.000000</td>\n",
       "      <td>46.135000</td>\n",
       "    </tr>\n",
       "    <tr>\n",
       "      <th>max</th>\n",
       "      <td>540.000000</td>\n",
       "      <td>359.400000</td>\n",
       "      <td>200.100000</td>\n",
       "      <td>247.000000</td>\n",
       "      <td>32.200000</td>\n",
       "      <td>1145.000000</td>\n",
       "      <td>992.600000</td>\n",
       "      <td>365.000000</td>\n",
       "      <td>82.600000</td>\n",
       "    </tr>\n",
       "  </tbody>\n",
       "</table>\n",
       "</div>"
      ],
      "text/plain": [
       "            Cement  Blast Furnace Slag      Fly Ash        Water  \\\n",
       "count  1030.000000         1030.000000  1030.000000  1030.000000   \n",
       "mean    281.167864           73.895825    54.188350   181.567282   \n",
       "std     104.506364           86.279342    63.997004    21.354219   \n",
       "min     102.000000            0.000000     0.000000   121.800000   \n",
       "25%     192.375000            0.000000     0.000000   164.900000   \n",
       "50%     272.900000           22.000000     0.000000   185.000000   \n",
       "75%     350.000000          142.950000   118.300000   192.000000   \n",
       "max     540.000000          359.400000   200.100000   247.000000   \n",
       "\n",
       "       Superplasticizer  Coarse Aggregate  Fine Aggregate          Age  \\\n",
       "count       1030.000000       1030.000000     1030.000000  1030.000000   \n",
       "mean           6.204660        972.918932      773.580485    45.662136   \n",
       "std            5.973841         77.753954       80.175980    63.169912   \n",
       "min            0.000000        801.000000      594.000000     1.000000   \n",
       "25%            0.000000        932.000000      730.950000     7.000000   \n",
       "50%            6.400000        968.000000      779.500000    28.000000   \n",
       "75%           10.200000       1029.400000      824.000000    56.000000   \n",
       "max           32.200000       1145.000000      992.600000   365.000000   \n",
       "\n",
       "          Strength  \n",
       "count  1030.000000  \n",
       "mean     35.817961  \n",
       "std      16.705742  \n",
       "min       2.330000  \n",
       "25%      23.710000  \n",
       "50%      34.445000  \n",
       "75%      46.135000  \n",
       "max      82.600000  "
      ]
     },
     "execution_count": 4,
     "metadata": {},
     "output_type": "execute_result"
    }
   ],
   "source": [
    "concrete_data.describe()"
   ]
  },
  {
   "cell_type": "code",
   "execution_count": 5,
   "id": "a351e256-5a80-4bf2-8586-058e846b17d1",
   "metadata": {},
   "outputs": [
    {
     "data": {
      "text/plain": [
       "Cement                0\n",
       "Blast Furnace Slag    0\n",
       "Fly Ash               0\n",
       "Water                 0\n",
       "Superplasticizer      0\n",
       "Coarse Aggregate      0\n",
       "Fine Aggregate        0\n",
       "Age                   0\n",
       "Strength              0\n",
       "dtype: int64"
      ]
     },
     "execution_count": 5,
     "metadata": {},
     "output_type": "execute_result"
    }
   ],
   "source": [
    "concrete_data.isnull().sum()"
   ]
  },
  {
   "cell_type": "markdown",
   "id": "1d6f8f28-6226-43d7-9e10-25cbbc4eee27",
   "metadata": {},
   "source": [
    "The data is Clean so lets bulid our model"
   ]
  },
  {
   "cell_type": "code",
   "execution_count": 6,
   "id": "79c589de-ef66-4aaa-80ad-460da5c45eca",
   "metadata": {},
   "outputs": [
    {
     "data": {
      "text/plain": [
       "Index(['Cement', 'Blast Furnace Slag', 'Fly Ash', 'Water', 'Superplasticizer',\n",
       "       'Coarse Aggregate', 'Fine Aggregate', 'Age', 'Strength'],\n",
       "      dtype='object')"
      ]
     },
     "execution_count": 6,
     "metadata": {},
     "output_type": "execute_result"
    }
   ],
   "source": [
    "concrete_data_cols = concrete_data.columns\n",
    "concrete_data_cols"
   ]
  },
  {
   "cell_type": "code",
   "execution_count": 7,
   "id": "add14ca9-01bf-43b4-a9a2-9b88b692de69",
   "metadata": {},
   "outputs": [],
   "source": [
    "predictors = concrete_data[concrete_data_cols[concrete_data_cols != 'Strength']]  #ALL COLUMNS EXCEPT THE STENGTH COLUMN\n",
    "target = concrete_data['Strength'] # THE STRENGTH COLUMN"
   ]
  },
  {
   "cell_type": "code",
   "execution_count": 8,
   "id": "c18f63fe-4ad8-4e57-9850-1e6fec7c88d4",
   "metadata": {},
   "outputs": [
    {
     "data": {
      "text/html": [
       "<div>\n",
       "<style scoped>\n",
       "    .dataframe tbody tr th:only-of-type {\n",
       "        vertical-align: middle;\n",
       "    }\n",
       "\n",
       "    .dataframe tbody tr th {\n",
       "        vertical-align: top;\n",
       "    }\n",
       "\n",
       "    .dataframe thead th {\n",
       "        text-align: right;\n",
       "    }\n",
       "</style>\n",
       "<table border=\"1\" class=\"dataframe\">\n",
       "  <thead>\n",
       "    <tr style=\"text-align: right;\">\n",
       "      <th></th>\n",
       "      <th>Cement</th>\n",
       "      <th>Blast Furnace Slag</th>\n",
       "      <th>Fly Ash</th>\n",
       "      <th>Water</th>\n",
       "      <th>Superplasticizer</th>\n",
       "      <th>Coarse Aggregate</th>\n",
       "      <th>Fine Aggregate</th>\n",
       "      <th>Age</th>\n",
       "    </tr>\n",
       "  </thead>\n",
       "  <tbody>\n",
       "    <tr>\n",
       "      <th>0</th>\n",
       "      <td>540.0</td>\n",
       "      <td>0.0</td>\n",
       "      <td>0.0</td>\n",
       "      <td>162.0</td>\n",
       "      <td>2.5</td>\n",
       "      <td>1040.0</td>\n",
       "      <td>676.0</td>\n",
       "      <td>28</td>\n",
       "    </tr>\n",
       "    <tr>\n",
       "      <th>1</th>\n",
       "      <td>540.0</td>\n",
       "      <td>0.0</td>\n",
       "      <td>0.0</td>\n",
       "      <td>162.0</td>\n",
       "      <td>2.5</td>\n",
       "      <td>1055.0</td>\n",
       "      <td>676.0</td>\n",
       "      <td>28</td>\n",
       "    </tr>\n",
       "    <tr>\n",
       "      <th>2</th>\n",
       "      <td>332.5</td>\n",
       "      <td>142.5</td>\n",
       "      <td>0.0</td>\n",
       "      <td>228.0</td>\n",
       "      <td>0.0</td>\n",
       "      <td>932.0</td>\n",
       "      <td>594.0</td>\n",
       "      <td>270</td>\n",
       "    </tr>\n",
       "  </tbody>\n",
       "</table>\n",
       "</div>"
      ],
      "text/plain": [
       "   Cement  Blast Furnace Slag  Fly Ash  Water  Superplasticizer  \\\n",
       "0   540.0                 0.0      0.0  162.0               2.5   \n",
       "1   540.0                 0.0      0.0  162.0               2.5   \n",
       "2   332.5               142.5      0.0  228.0               0.0   \n",
       "\n",
       "   Coarse Aggregate  Fine Aggregate  Age  \n",
       "0            1040.0           676.0   28  \n",
       "1            1055.0           676.0   28  \n",
       "2             932.0           594.0  270  "
      ]
     },
     "execution_count": 8,
     "metadata": {},
     "output_type": "execute_result"
    }
   ],
   "source": [
    "predictors.head(3)"
   ]
  },
  {
   "cell_type": "code",
   "execution_count": 9,
   "id": "46ffc618-56b7-44bd-8905-df88a69a3c10",
   "metadata": {},
   "outputs": [
    {
     "data": {
      "text/plain": [
       "0    79.99\n",
       "1    61.89\n",
       "2    40.27\n",
       "Name: Strength, dtype: float64"
      ]
     },
     "execution_count": 9,
     "metadata": {},
     "output_type": "execute_result"
    }
   ],
   "source": [
    "target.head(3)"
   ]
  },
  {
   "cell_type": "code",
   "execution_count": 10,
   "id": "67efcf82-2199-4e7f-b855-93f6c56109b1",
   "metadata": {},
   "outputs": [
    {
     "data": {
      "text/html": [
       "<div>\n",
       "<style scoped>\n",
       "    .dataframe tbody tr th:only-of-type {\n",
       "        vertical-align: middle;\n",
       "    }\n",
       "\n",
       "    .dataframe tbody tr th {\n",
       "        vertical-align: top;\n",
       "    }\n",
       "\n",
       "    .dataframe thead th {\n",
       "        text-align: right;\n",
       "    }\n",
       "</style>\n",
       "<table border=\"1\" class=\"dataframe\">\n",
       "  <thead>\n",
       "    <tr style=\"text-align: right;\">\n",
       "      <th></th>\n",
       "      <th>Cement</th>\n",
       "      <th>Blast Furnace Slag</th>\n",
       "      <th>Fly Ash</th>\n",
       "      <th>Water</th>\n",
       "      <th>Superplasticizer</th>\n",
       "      <th>Coarse Aggregate</th>\n",
       "      <th>Fine Aggregate</th>\n",
       "      <th>Age</th>\n",
       "    </tr>\n",
       "  </thead>\n",
       "  <tbody>\n",
       "    <tr>\n",
       "      <th>0</th>\n",
       "      <td>2.476712</td>\n",
       "      <td>-0.856472</td>\n",
       "      <td>-0.846733</td>\n",
       "      <td>-0.916319</td>\n",
       "      <td>-0.620147</td>\n",
       "      <td>0.862735</td>\n",
       "      <td>-1.217079</td>\n",
       "      <td>-0.279597</td>\n",
       "    </tr>\n",
       "    <tr>\n",
       "      <th>1</th>\n",
       "      <td>2.476712</td>\n",
       "      <td>-0.856472</td>\n",
       "      <td>-0.846733</td>\n",
       "      <td>-0.916319</td>\n",
       "      <td>-0.620147</td>\n",
       "      <td>1.055651</td>\n",
       "      <td>-1.217079</td>\n",
       "      <td>-0.279597</td>\n",
       "    </tr>\n",
       "    <tr>\n",
       "      <th>2</th>\n",
       "      <td>0.491187</td>\n",
       "      <td>0.795140</td>\n",
       "      <td>-0.846733</td>\n",
       "      <td>2.174405</td>\n",
       "      <td>-1.038638</td>\n",
       "      <td>-0.526262</td>\n",
       "      <td>-2.239829</td>\n",
       "      <td>3.551340</td>\n",
       "    </tr>\n",
       "    <tr>\n",
       "      <th>3</th>\n",
       "      <td>0.491187</td>\n",
       "      <td>0.795140</td>\n",
       "      <td>-0.846733</td>\n",
       "      <td>2.174405</td>\n",
       "      <td>-1.038638</td>\n",
       "      <td>-0.526262</td>\n",
       "      <td>-2.239829</td>\n",
       "      <td>5.055221</td>\n",
       "    </tr>\n",
       "    <tr>\n",
       "      <th>4</th>\n",
       "      <td>-0.790075</td>\n",
       "      <td>0.678079</td>\n",
       "      <td>-0.846733</td>\n",
       "      <td>0.488555</td>\n",
       "      <td>-1.038638</td>\n",
       "      <td>0.070492</td>\n",
       "      <td>0.647569</td>\n",
       "      <td>4.976069</td>\n",
       "    </tr>\n",
       "    <tr>\n",
       "      <th>...</th>\n",
       "      <td>...</td>\n",
       "      <td>...</td>\n",
       "      <td>...</td>\n",
       "      <td>...</td>\n",
       "      <td>...</td>\n",
       "      <td>...</td>\n",
       "      <td>...</td>\n",
       "      <td>...</td>\n",
       "    </tr>\n",
       "    <tr>\n",
       "      <th>1025</th>\n",
       "      <td>-0.045623</td>\n",
       "      <td>0.487998</td>\n",
       "      <td>0.564271</td>\n",
       "      <td>-0.092126</td>\n",
       "      <td>0.451190</td>\n",
       "      <td>-1.322363</td>\n",
       "      <td>-0.065861</td>\n",
       "      <td>-0.279597</td>\n",
       "    </tr>\n",
       "    <tr>\n",
       "      <th>1026</th>\n",
       "      <td>0.392628</td>\n",
       "      <td>-0.856472</td>\n",
       "      <td>0.959602</td>\n",
       "      <td>0.675872</td>\n",
       "      <td>0.702285</td>\n",
       "      <td>-1.993711</td>\n",
       "      <td>0.496651</td>\n",
       "      <td>-0.279597</td>\n",
       "    </tr>\n",
       "    <tr>\n",
       "      <th>1027</th>\n",
       "      <td>-1.269472</td>\n",
       "      <td>0.759210</td>\n",
       "      <td>0.850222</td>\n",
       "      <td>0.521336</td>\n",
       "      <td>-0.017520</td>\n",
       "      <td>-1.035561</td>\n",
       "      <td>0.080068</td>\n",
       "      <td>-0.279597</td>\n",
       "    </tr>\n",
       "    <tr>\n",
       "      <th>1028</th>\n",
       "      <td>-1.168042</td>\n",
       "      <td>1.307430</td>\n",
       "      <td>-0.846733</td>\n",
       "      <td>-0.279443</td>\n",
       "      <td>0.852942</td>\n",
       "      <td>0.214537</td>\n",
       "      <td>0.191074</td>\n",
       "      <td>-0.279597</td>\n",
       "    </tr>\n",
       "    <tr>\n",
       "      <th>1029</th>\n",
       "      <td>-0.193939</td>\n",
       "      <td>0.308349</td>\n",
       "      <td>0.376762</td>\n",
       "      <td>0.891286</td>\n",
       "      <td>0.400971</td>\n",
       "      <td>-1.394385</td>\n",
       "      <td>-0.150675</td>\n",
       "      <td>-0.279597</td>\n",
       "    </tr>\n",
       "  </tbody>\n",
       "</table>\n",
       "<p>1030 rows × 8 columns</p>\n",
       "</div>"
      ],
      "text/plain": [
       "        Cement  Blast Furnace Slag   Fly Ash     Water  Superplasticizer  \\\n",
       "0     2.476712           -0.856472 -0.846733 -0.916319         -0.620147   \n",
       "1     2.476712           -0.856472 -0.846733 -0.916319         -0.620147   \n",
       "2     0.491187            0.795140 -0.846733  2.174405         -1.038638   \n",
       "3     0.491187            0.795140 -0.846733  2.174405         -1.038638   \n",
       "4    -0.790075            0.678079 -0.846733  0.488555         -1.038638   \n",
       "...        ...                 ...       ...       ...               ...   \n",
       "1025 -0.045623            0.487998  0.564271 -0.092126          0.451190   \n",
       "1026  0.392628           -0.856472  0.959602  0.675872          0.702285   \n",
       "1027 -1.269472            0.759210  0.850222  0.521336         -0.017520   \n",
       "1028 -1.168042            1.307430 -0.846733 -0.279443          0.852942   \n",
       "1029 -0.193939            0.308349  0.376762  0.891286          0.400971   \n",
       "\n",
       "      Coarse Aggregate  Fine Aggregate       Age  \n",
       "0             0.862735       -1.217079 -0.279597  \n",
       "1             1.055651       -1.217079 -0.279597  \n",
       "2            -0.526262       -2.239829  3.551340  \n",
       "3            -0.526262       -2.239829  5.055221  \n",
       "4             0.070492        0.647569  4.976069  \n",
       "...                ...             ...       ...  \n",
       "1025         -1.322363       -0.065861 -0.279597  \n",
       "1026         -1.993711        0.496651 -0.279597  \n",
       "1027         -1.035561        0.080068 -0.279597  \n",
       "1028          0.214537        0.191074 -0.279597  \n",
       "1029         -1.394385       -0.150675 -0.279597  \n",
       "\n",
       "[1030 rows x 8 columns]"
      ]
     },
     "execution_count": 10,
     "metadata": {},
     "output_type": "execute_result"
    }
   ],
   "source": [
    "predictors_norm = (predictors - predictors.mean())/ predictors.std()\n",
    "predictors_norm"
   ]
  },
  {
   "cell_type": "markdown",
   "id": "6bce7bd6-2f56-495e-8f8a-d6789b23a14a",
   "metadata": {},
   "source": [
    "Lets see the No of cols predictors have"
   ]
  },
  {
   "cell_type": "code",
   "execution_count": 11,
   "id": "574500a6-f318-4a1f-8896-1543ea5636d5",
   "metadata": {},
   "outputs": [
    {
     "data": {
      "text/plain": [
       "8"
      ]
     },
     "execution_count": 11,
     "metadata": {},
     "output_type": "execute_result"
    }
   ],
   "source": [
    "n_cols = predictors_norm.shape[1]\n",
    "n_cols"
   ]
  },
  {
   "cell_type": "markdown",
   "id": "f515ae6d-aaa2-4b7e-a068-db221f25dc2e",
   "metadata": {},
   "source": [
    "Lets import the Keras library and other packages from Keras library"
   ]
  },
  {
   "cell_type": "code",
   "execution_count": 12,
   "id": "6259cb47-e140-4e4d-b844-01af39dad8aa",
   "metadata": {},
   "outputs": [
    {
     "name": "stderr",
     "output_type": "stream",
     "text": [
      "Using TensorFlow backend.\n",
      "/home/jupyterlab/conda/envs/python/lib/python3.7/site-packages/tensorflow/python/framework/dtypes.py:516: FutureWarning: Passing (type, 1) or '1type' as a synonym of type is deprecated; in a future version of numpy, it will be understood as (type, (1,)) / '(1,)type'.\n",
      "  _np_qint8 = np.dtype([(\"qint8\", np.int8, 1)])\n",
      "/home/jupyterlab/conda/envs/python/lib/python3.7/site-packages/tensorflow/python/framework/dtypes.py:517: FutureWarning: Passing (type, 1) or '1type' as a synonym of type is deprecated; in a future version of numpy, it will be understood as (type, (1,)) / '(1,)type'.\n",
      "  _np_quint8 = np.dtype([(\"quint8\", np.uint8, 1)])\n",
      "/home/jupyterlab/conda/envs/python/lib/python3.7/site-packages/tensorflow/python/framework/dtypes.py:518: FutureWarning: Passing (type, 1) or '1type' as a synonym of type is deprecated; in a future version of numpy, it will be understood as (type, (1,)) / '(1,)type'.\n",
      "  _np_qint16 = np.dtype([(\"qint16\", np.int16, 1)])\n",
      "/home/jupyterlab/conda/envs/python/lib/python3.7/site-packages/tensorflow/python/framework/dtypes.py:519: FutureWarning: Passing (type, 1) or '1type' as a synonym of type is deprecated; in a future version of numpy, it will be understood as (type, (1,)) / '(1,)type'.\n",
      "  _np_quint16 = np.dtype([(\"quint16\", np.uint16, 1)])\n",
      "/home/jupyterlab/conda/envs/python/lib/python3.7/site-packages/tensorflow/python/framework/dtypes.py:520: FutureWarning: Passing (type, 1) or '1type' as a synonym of type is deprecated; in a future version of numpy, it will be understood as (type, (1,)) / '(1,)type'.\n",
      "  _np_qint32 = np.dtype([(\"qint32\", np.int32, 1)])\n",
      "/home/jupyterlab/conda/envs/python/lib/python3.7/site-packages/tensorflow/python/framework/dtypes.py:525: FutureWarning: Passing (type, 1) or '1type' as a synonym of type is deprecated; in a future version of numpy, it will be understood as (type, (1,)) / '(1,)type'.\n",
      "  np_resource = np.dtype([(\"resource\", np.ubyte, 1)])\n",
      "/home/jupyterlab/conda/envs/python/lib/python3.7/site-packages/tensorboard/compat/tensorflow_stub/dtypes.py:541: FutureWarning: Passing (type, 1) or '1type' as a synonym of type is deprecated; in a future version of numpy, it will be understood as (type, (1,)) / '(1,)type'.\n",
      "  _np_qint8 = np.dtype([(\"qint8\", np.int8, 1)])\n",
      "/home/jupyterlab/conda/envs/python/lib/python3.7/site-packages/tensorboard/compat/tensorflow_stub/dtypes.py:542: FutureWarning: Passing (type, 1) or '1type' as a synonym of type is deprecated; in a future version of numpy, it will be understood as (type, (1,)) / '(1,)type'.\n",
      "  _np_quint8 = np.dtype([(\"quint8\", np.uint8, 1)])\n",
      "/home/jupyterlab/conda/envs/python/lib/python3.7/site-packages/tensorboard/compat/tensorflow_stub/dtypes.py:543: FutureWarning: Passing (type, 1) or '1type' as a synonym of type is deprecated; in a future version of numpy, it will be understood as (type, (1,)) / '(1,)type'.\n",
      "  _np_qint16 = np.dtype([(\"qint16\", np.int16, 1)])\n",
      "/home/jupyterlab/conda/envs/python/lib/python3.7/site-packages/tensorboard/compat/tensorflow_stub/dtypes.py:544: FutureWarning: Passing (type, 1) or '1type' as a synonym of type is deprecated; in a future version of numpy, it will be understood as (type, (1,)) / '(1,)type'.\n",
      "  _np_quint16 = np.dtype([(\"quint16\", np.uint16, 1)])\n",
      "/home/jupyterlab/conda/envs/python/lib/python3.7/site-packages/tensorboard/compat/tensorflow_stub/dtypes.py:545: FutureWarning: Passing (type, 1) or '1type' as a synonym of type is deprecated; in a future version of numpy, it will be understood as (type, (1,)) / '(1,)type'.\n",
      "  _np_qint32 = np.dtype([(\"qint32\", np.int32, 1)])\n",
      "/home/jupyterlab/conda/envs/python/lib/python3.7/site-packages/tensorboard/compat/tensorflow_stub/dtypes.py:550: FutureWarning: Passing (type, 1) or '1type' as a synonym of type is deprecated; in a future version of numpy, it will be understood as (type, (1,)) / '(1,)type'.\n",
      "  np_resource = np.dtype([(\"resource\", np.ubyte, 1)])\n"
     ]
    }
   ],
   "source": [
    "import keras\n",
    "from keras.models import Sequential\n",
    "from keras.layers import Dense"
   ]
  },
  {
   "cell_type": "markdown",
   "id": "27e8c615-4ffe-4a92-b32f-50db24ac9b8e",
   "metadata": {},
   "source": [
    "Now Lets bulild the neural network"
   ]
  },
  {
   "cell_type": "code",
   "execution_count": 13,
   "id": "e75f3957-9a4f-46b7-adbe-0271bf45b186",
   "metadata": {},
   "outputs": [],
   "source": [
    "def regression_model():\n",
    "    model = Sequential()\n",
    "    model.add(Dense(10,activation = 'relu', input_shape = (n_cols,)))\n",
    "    model.add(Dense(10 , activation = 'relu'))\n",
    "    model.add(Dense(10 , activation = 'relu')) \n",
    "    model.add(Dense(1))\n",
    "    \n",
    "    model.compile(optimizer = 'adam', loss = 'mean_squared_error')\n",
    "    return model"
   ]
  },
  {
   "cell_type": "markdown",
   "id": "7f231d0f-d312-4e0b-b5ee-7faf05492202",
   "metadata": {},
   "source": [
    "The above function create a model that has two hidden layers, each of 50 hidden units."
   ]
  },
  {
   "cell_type": "markdown",
   "id": "03d5f963-c826-4dbe-bbae-96cddcc21266",
   "metadata": {},
   "source": [
    "## Train and Test Split from Sklearn\n"
   ]
  },
  {
   "cell_type": "code",
   "execution_count": 14,
   "id": "d40ec778-5f56-4bb9-8db7-a14209cc5b02",
   "metadata": {},
   "outputs": [
    {
     "name": "stderr",
     "output_type": "stream",
     "text": [
      "/home/jupyterlab/conda/envs/python/lib/python3.7/site-packages/sklearn/utils/validation.py:37: DeprecationWarning: distutils Version classes are deprecated. Use packaging.version instead.\n",
      "  LARGE_SPARSE_SUPPORTED = LooseVersion(scipy_version) >= '0.14.0'\n"
     ]
    }
   ],
   "source": [
    "from sklearn.model_selection import train_test_split"
   ]
  },
  {
   "cell_type": "markdown",
   "id": "d479480e-ed07-45fb-99eb-6a1a56f0050c",
   "metadata": {},
   "source": [
    "Splitting the data into a training and test sets by holding 30% of the data for testing\n",
    "\n"
   ]
  },
  {
   "cell_type": "code",
   "execution_count": 15,
   "id": "6f45ca1f-543d-48dd-a931-6b87f6a67d91",
   "metadata": {},
   "outputs": [],
   "source": [
    "X_train, X_test , y_train , y_test = train_test_split(predictors, target, random_state = 4, test_size = 0.3) "
   ]
  },
  {
   "cell_type": "markdown",
   "id": "fda3ee3a-ba1d-48ae-881c-14e92dc40403",
   "metadata": {},
   "source": [
    "Let's call the function now to create our model.\n"
   ]
  },
  {
   "cell_type": "code",
   "execution_count": 16,
   "id": "4091770d-047b-4073-bc00-b9ee6421c7c5",
   "metadata": {},
   "outputs": [
    {
     "name": "stdout",
     "output_type": "stream",
     "text": [
      "WARNING:tensorflow:From /home/jupyterlab/conda/envs/python/lib/python3.7/site-packages/keras/backend/tensorflow_backend.py:68: The name tf.get_default_graph is deprecated. Please use tf.compat.v1.get_default_graph instead.\n",
      "\n",
      "WARNING:tensorflow:From /home/jupyterlab/conda/envs/python/lib/python3.7/site-packages/keras/backend/tensorflow_backend.py:508: The name tf.placeholder is deprecated. Please use tf.compat.v1.placeholder instead.\n",
      "\n",
      "WARNING:tensorflow:From /home/jupyterlab/conda/envs/python/lib/python3.7/site-packages/keras/backend/tensorflow_backend.py:3837: The name tf.random_uniform is deprecated. Please use tf.random.uniform instead.\n",
      "\n",
      "WARNING:tensorflow:From /home/jupyterlab/conda/envs/python/lib/python3.7/site-packages/keras/optimizers.py:757: The name tf.train.Optimizer is deprecated. Please use tf.compat.v1.train.Optimizer instead.\n",
      "\n"
     ]
    }
   ],
   "source": [
    "model = regression_model()"
   ]
  },
  {
   "cell_type": "markdown",
   "id": "52c9aca8-8979-484e-a102-cc821a2ec333",
   "metadata": {},
   "source": [
    "Next, we will train and test the model at the same time using the *fit* method. We will leave out 30% of the data for validation and we will train the model for 100 epochs.\n"
   ]
  },
  {
   "cell_type": "code",
   "execution_count": 17,
   "id": "3764bccf-db27-41fb-87cb-a700ea359843",
   "metadata": {},
   "outputs": [
    {
     "name": "stdout",
     "output_type": "stream",
     "text": [
      "WARNING:tensorflow:From /home/jupyterlab/conda/envs/python/lib/python3.7/site-packages/keras/backend/tensorflow_backend.py:977: The name tf.assign_add is deprecated. Please use tf.compat.v1.assign_add instead.\n",
      "\n",
      "WARNING:tensorflow:From /home/jupyterlab/conda/envs/python/lib/python3.7/site-packages/keras/backend/tensorflow_backend.py:964: The name tf.assign is deprecated. Please use tf.compat.v1.assign instead.\n",
      "\n",
      "Train on 504 samples, validate on 217 samples\n",
      "Epoch 1/100\n"
     ]
    },
    {
     "name": "stderr",
     "output_type": "stream",
     "text": [
      "2022-08-26 14:28:44.492032: I tensorflow/core/platform/cpu_feature_guard.cc:142] Your CPU supports instructions that this TensorFlow binary was not compiled to use: SSE4.1 SSE4.2 AVX AVX2 AVX512F FMA\n",
      "2022-08-26 14:28:44.497391: I tensorflow/core/platform/profile_utils/cpu_utils.cc:94] CPU Frequency: 2593900000 Hz\n",
      "2022-08-26 14:28:44.498230: I tensorflow/compiler/xla/service/service.cc:168] XLA service 0x558fb0f0ac80 executing computations on platform Host. Devices:\n",
      "2022-08-26 14:28:44.498279: I tensorflow/compiler/xla/service/service.cc:175]   StreamExecutor device (0): <undefined>, <undefined>\n",
      "2022-08-26 14:28:44.624866: W tensorflow/compiler/jit/mark_for_compilation_pass.cc:1412] (One-time warning): Not using XLA:CPU for cluster because envvar TF_XLA_FLAGS=--tf_xla_cpu_global_jit was not set.  If you want XLA:CPU, either set that envvar, or use experimental_jit_scope to enable XLA:CPU.  To confirm that XLA is active, pass --vmodule=xla_compilation_cache=1 (as a proper command-line flag, not via TF_XLA_FLAGS) or set the envvar XLA_FLAGS=--xla_hlo_profile.\n"
     ]
    },
    {
     "name": "stdout",
     "output_type": "stream",
     "text": [
      "504/504 [==============================] - 0s 741us/step - loss: 10859.2905 - val_loss: 5449.5992\n",
      "Epoch 2/100\n",
      "504/504 [==============================] - 0s 93us/step - loss: 3377.4212 - val_loss: 1403.5447\n",
      "Epoch 3/100\n",
      "504/504 [==============================] - 0s 153us/step - loss: 909.8634 - val_loss: 478.6119\n",
      "Epoch 4/100\n",
      "504/504 [==============================] - 0s 151us/step - loss: 521.4290 - val_loss: 456.5307\n",
      "Epoch 5/100\n",
      "504/504 [==============================] - 0s 150us/step - loss: 478.8605 - val_loss: 401.3813\n",
      "Epoch 6/100\n",
      "504/504 [==============================] - 0s 127us/step - loss: 427.5481 - val_loss: 368.2590\n",
      "Epoch 7/100\n",
      "504/504 [==============================] - 0s 120us/step - loss: 398.5122 - val_loss: 344.1332\n",
      "Epoch 8/100\n",
      "504/504 [==============================] - 0s 121us/step - loss: 367.4363 - val_loss: 322.0896\n",
      "Epoch 9/100\n",
      "504/504 [==============================] - 0s 119us/step - loss: 342.6244 - val_loss: 302.3208\n",
      "Epoch 10/100\n",
      "504/504 [==============================] - 0s 117us/step - loss: 319.0550 - val_loss: 284.8193\n",
      "Epoch 11/100\n",
      "504/504 [==============================] - 0s 95us/step - loss: 300.5916 - val_loss: 270.1999\n",
      "Epoch 12/100\n",
      "504/504 [==============================] - 0s 141us/step - loss: 283.5356 - val_loss: 259.5621\n",
      "Epoch 13/100\n",
      "504/504 [==============================] - 0s 116us/step - loss: 269.3026 - val_loss: 249.9832\n",
      "Epoch 14/100\n",
      "504/504 [==============================] - 0s 96us/step - loss: 257.0057 - val_loss: 241.7100\n",
      "Epoch 15/100\n",
      "504/504 [==============================] - 0s 115us/step - loss: 241.6027 - val_loss: 233.2516\n",
      "Epoch 16/100\n",
      "504/504 [==============================] - 0s 156us/step - loss: 230.0858 - val_loss: 225.7915\n",
      "Epoch 17/100\n",
      "504/504 [==============================] - 0s 115us/step - loss: 218.4842 - val_loss: 218.5131\n",
      "Epoch 18/100\n",
      "504/504 [==============================] - 0s 112us/step - loss: 209.5668 - val_loss: 214.9429\n",
      "Epoch 19/100\n",
      "504/504 [==============================] - 0s 122us/step - loss: 201.9189 - val_loss: 206.6290\n",
      "Epoch 20/100\n",
      "504/504 [==============================] - 0s 125us/step - loss: 196.2349 - val_loss: 204.6324\n",
      "Epoch 21/100\n",
      "504/504 [==============================] - 0s 110us/step - loss: 182.0063 - val_loss: 193.5059\n",
      "Epoch 22/100\n",
      "504/504 [==============================] - 0s 100us/step - loss: 172.7271 - val_loss: 195.0577\n",
      "Epoch 23/100\n",
      "504/504 [==============================] - 0s 120us/step - loss: 166.6193 - val_loss: 183.3227\n",
      "Epoch 24/100\n",
      "504/504 [==============================] - 0s 115us/step - loss: 160.5132 - val_loss: 184.9100\n",
      "Epoch 25/100\n",
      "504/504 [==============================] - 0s 118us/step - loss: 153.6995 - val_loss: 172.3171\n",
      "Epoch 26/100\n",
      "504/504 [==============================] - 0s 114us/step - loss: 149.8076 - val_loss: 167.0899\n",
      "Epoch 27/100\n",
      "504/504 [==============================] - 0s 121us/step - loss: 143.7337 - val_loss: 165.9008\n",
      "Epoch 28/100\n",
      "504/504 [==============================] - 0s 118us/step - loss: 137.1407 - val_loss: 156.6487\n",
      "Epoch 29/100\n",
      "504/504 [==============================] - 0s 107us/step - loss: 130.4015 - val_loss: 148.6901\n",
      "Epoch 30/100\n",
      "504/504 [==============================] - 0s 104us/step - loss: 125.5778 - val_loss: 147.7348\n",
      "Epoch 31/100\n",
      "504/504 [==============================] - 0s 146us/step - loss: 121.4534 - val_loss: 133.9250\n",
      "Epoch 32/100\n",
      "504/504 [==============================] - 0s 121us/step - loss: 114.8836 - val_loss: 125.6461\n",
      "Epoch 33/100\n",
      "504/504 [==============================] - 0s 143us/step - loss: 113.3418 - val_loss: 121.9456\n",
      "Epoch 34/100\n",
      "504/504 [==============================] - 0s 90us/step - loss: 107.0141 - val_loss: 116.9799\n",
      "Epoch 35/100\n",
      "504/504 [==============================] - 0s 119us/step - loss: 102.7945 - val_loss: 108.8530\n",
      "Epoch 36/100\n",
      "504/504 [==============================] - 0s 124us/step - loss: 100.0412 - val_loss: 104.2203\n",
      "Epoch 37/100\n",
      "504/504 [==============================] - 0s 119us/step - loss: 98.9225 - val_loss: 100.9095\n",
      "Epoch 38/100\n",
      "504/504 [==============================] - 0s 118us/step - loss: 98.0793 - val_loss: 102.2414\n",
      "Epoch 39/100\n",
      "504/504 [==============================] - 0s 118us/step - loss: 95.7288 - val_loss: 101.1147\n",
      "Epoch 40/100\n",
      "504/504 [==============================] - 0s 114us/step - loss: 91.0259 - val_loss: 101.4133\n",
      "Epoch 41/100\n",
      "504/504 [==============================] - 0s 119us/step - loss: 87.6875 - val_loss: 90.6149\n",
      "Epoch 42/100\n",
      "504/504 [==============================] - 0s 114us/step - loss: 86.9753 - val_loss: 90.3179\n",
      "Epoch 43/100\n",
      "504/504 [==============================] - 0s 114us/step - loss: 86.6727 - val_loss: 89.0193\n",
      "Epoch 44/100\n",
      "504/504 [==============================] - 0s 114us/step - loss: 83.3310 - val_loss: 89.3069\n",
      "Epoch 45/100\n",
      "504/504 [==============================] - 0s 95us/step - loss: 83.3483 - val_loss: 86.7820\n",
      "Epoch 46/100\n",
      "504/504 [==============================] - 0s 115us/step - loss: 86.4916 - val_loss: 86.3494\n",
      "Epoch 47/100\n",
      "504/504 [==============================] - 0s 112us/step - loss: 82.6063 - val_loss: 84.7777\n",
      "Epoch 48/100\n",
      "504/504 [==============================] - 0s 115us/step - loss: 79.8697 - val_loss: 84.7479\n",
      "Epoch 49/100\n",
      "504/504 [==============================] - 0s 82us/step - loss: 77.3987 - val_loss: 80.3897\n",
      "Epoch 50/100\n",
      "504/504 [==============================] - 0s 113us/step - loss: 78.6383 - val_loss: 84.4898\n",
      "Epoch 51/100\n",
      "504/504 [==============================] - 0s 108us/step - loss: 80.6322 - val_loss: 80.9346\n",
      "Epoch 52/100\n",
      "504/504 [==============================] - 0s 93us/step - loss: 78.5548 - val_loss: 80.2858\n",
      "Epoch 53/100\n",
      "504/504 [==============================] - 0s 114us/step - loss: 76.8983 - val_loss: 78.5525\n",
      "Epoch 54/100\n",
      "504/504 [==============================] - 0s 112us/step - loss: 75.7983 - val_loss: 77.1950\n",
      "Epoch 55/100\n",
      "504/504 [==============================] - 0s 117us/step - loss: 77.2829 - val_loss: 76.7672\n",
      "Epoch 56/100\n",
      "504/504 [==============================] - 0s 112us/step - loss: 77.4408 - val_loss: 86.3316\n",
      "Epoch 57/100\n",
      "504/504 [==============================] - 0s 93us/step - loss: 75.8912 - val_loss: 83.6110\n",
      "Epoch 58/100\n",
      "504/504 [==============================] - 0s 96us/step - loss: 73.9534 - val_loss: 82.1688\n",
      "Epoch 59/100\n",
      "504/504 [==============================] - 0s 112us/step - loss: 72.0468 - val_loss: 81.9474\n",
      "Epoch 60/100\n",
      "504/504 [==============================] - 0s 110us/step - loss: 71.9276 - val_loss: 76.2527\n",
      "Epoch 61/100\n",
      "504/504 [==============================] - 0s 91us/step - loss: 71.5997 - val_loss: 77.5823\n",
      "Epoch 62/100\n",
      "504/504 [==============================] - 0s 111us/step - loss: 72.4757 - val_loss: 79.4172\n",
      "Epoch 63/100\n",
      "504/504 [==============================] - 0s 114us/step - loss: 73.9482 - val_loss: 74.5057\n",
      "Epoch 64/100\n",
      "504/504 [==============================] - 0s 125us/step - loss: 72.1242 - val_loss: 74.7675\n",
      "Epoch 65/100\n",
      "504/504 [==============================] - 0s 106us/step - loss: 70.5054 - val_loss: 74.9121\n",
      "Epoch 66/100\n",
      "504/504 [==============================] - 0s 114us/step - loss: 70.9317 - val_loss: 73.8903\n",
      "Epoch 67/100\n",
      "504/504 [==============================] - 0s 112us/step - loss: 73.3406 - val_loss: 76.6770\n",
      "Epoch 68/100\n",
      "504/504 [==============================] - 0s 96us/step - loss: 74.8435 - val_loss: 73.5831\n",
      "Epoch 69/100\n",
      "504/504 [==============================] - 0s 111us/step - loss: 70.1035 - val_loss: 84.1075\n",
      "Epoch 70/100\n",
      "504/504 [==============================] - 0s 113us/step - loss: 70.1985 - val_loss: 98.7635\n",
      "Epoch 71/100\n",
      "504/504 [==============================] - 0s 115us/step - loss: 74.6318 - val_loss: 79.0324\n",
      "Epoch 72/100\n",
      "504/504 [==============================] - 0s 113us/step - loss: 71.7835 - val_loss: 78.7873\n",
      "Epoch 73/100\n",
      "504/504 [==============================] - 0s 114us/step - loss: 69.0575 - val_loss: 74.7312\n",
      "Epoch 74/100\n",
      "504/504 [==============================] - 0s 118us/step - loss: 67.9263 - val_loss: 73.1875\n",
      "Epoch 75/100\n",
      "504/504 [==============================] - 0s 99us/step - loss: 69.8398 - val_loss: 74.4817\n",
      "Epoch 76/100\n",
      "504/504 [==============================] - 0s 118us/step - loss: 67.3207 - val_loss: 72.2883\n",
      "Epoch 77/100\n",
      "504/504 [==============================] - 0s 97us/step - loss: 67.3650 - val_loss: 72.7485\n",
      "Epoch 78/100\n",
      "504/504 [==============================] - 0s 118us/step - loss: 67.5679 - val_loss: 71.8048\n",
      "Epoch 79/100\n",
      "504/504 [==============================] - 0s 123us/step - loss: 67.6538 - val_loss: 73.1923\n",
      "Epoch 80/100\n",
      "504/504 [==============================] - 0s 103us/step - loss: 68.2622 - val_loss: 76.6970\n",
      "Epoch 81/100\n",
      "504/504 [==============================] - 0s 120us/step - loss: 67.7850 - val_loss: 72.3419\n",
      "Epoch 82/100\n",
      "504/504 [==============================] - 0s 113us/step - loss: 66.3410 - val_loss: 76.4973\n",
      "Epoch 83/100\n",
      "504/504 [==============================] - 0s 87us/step - loss: 67.3686 - val_loss: 80.8296\n",
      "Epoch 84/100\n",
      "504/504 [==============================] - 0s 116us/step - loss: 66.6407 - val_loss: 91.5215\n",
      "Epoch 85/100\n",
      "504/504 [==============================] - 0s 110us/step - loss: 68.6315 - val_loss: 78.4811\n",
      "Epoch 86/100\n",
      "504/504 [==============================] - 0s 116us/step - loss: 67.5028 - val_loss: 72.3136\n",
      "Epoch 87/100\n",
      "504/504 [==============================] - 0s 90us/step - loss: 66.5294 - val_loss: 73.8863\n",
      "Epoch 88/100\n",
      "504/504 [==============================] - 0s 108us/step - loss: 67.2135 - val_loss: 76.5159\n",
      "Epoch 89/100\n",
      "504/504 [==============================] - 0s 113us/step - loss: 65.8594 - val_loss: 71.4623\n",
      "Epoch 90/100\n",
      "504/504 [==============================] - 0s 119us/step - loss: 69.0876 - val_loss: 74.8695\n",
      "Epoch 91/100\n",
      "504/504 [==============================] - 0s 88us/step - loss: 73.1622 - val_loss: 76.6488\n",
      "Epoch 92/100\n",
      "504/504 [==============================] - 0s 117us/step - loss: 65.8131 - val_loss: 72.9564\n",
      "Epoch 93/100\n",
      "504/504 [==============================] - 0s 114us/step - loss: 67.5087 - val_loss: 87.8672\n",
      "Epoch 94/100\n",
      "504/504 [==============================] - 0s 108us/step - loss: 66.4822 - val_loss: 94.2241\n",
      "Epoch 95/100\n",
      "504/504 [==============================] - 0s 93us/step - loss: 69.0684 - val_loss: 74.0765\n",
      "Epoch 96/100\n",
      "504/504 [==============================] - 0s 112us/step - loss: 64.4679 - val_loss: 70.9002\n",
      "Epoch 97/100\n",
      "504/504 [==============================] - 0s 143us/step - loss: 68.5694 - val_loss: 81.1872\n",
      "Epoch 98/100\n",
      "504/504 [==============================] - 0s 92us/step - loss: 68.0743 - val_loss: 78.7347\n",
      "Epoch 99/100\n",
      "504/504 [==============================] - 0s 116us/step - loss: 64.7483 - val_loss: 73.4042\n",
      "Epoch 100/100\n",
      "504/504 [==============================] - 0s 113us/step - loss: 65.3976 - val_loss: 82.7834\n"
     ]
    },
    {
     "data": {
      "text/plain": [
       "<keras.callbacks.History at 0x7f4ab1945f50>"
      ]
     },
     "execution_count": 17,
     "metadata": {},
     "output_type": "execute_result"
    }
   ],
   "source": [
    "model.fit(X_train, y_train , validation_split = 0.3 , epochs = 100 , verbose = 1)"
   ]
  },
  {
   "cell_type": "markdown",
   "id": "669e6dc6-4e0d-43e0-801a-ba23937722cb",
   "metadata": {},
   "source": [
    "let's evaluate the model on test data"
   ]
  },
  {
   "cell_type": "code",
   "execution_count": 18,
   "id": "97e98267-23e6-4c4f-a00e-d62afd012e07",
   "metadata": {},
   "outputs": [
    {
     "name": "stdout",
     "output_type": "stream",
     "text": [
      "309/309 [==============================] - 0s 39us/step\n"
     ]
    },
    {
     "data": {
      "text/plain": [
       "85.70382875609167"
      ]
     },
     "execution_count": 18,
     "metadata": {},
     "output_type": "execute_result"
    }
   ],
   "source": [
    "loss_val = model.evaluate(X_test, y_test)\n",
    "y_pred = model.predict(X_test)\n",
    "loss_val"
   ]
  },
  {
   "cell_type": "markdown",
   "id": "9cc1bb57-e4f9-4462-845d-9d5feca0faba",
   "metadata": {},
   "source": [
    "Now we need to compute the mean squared error between the predicted concrete strength and the actual concrete strength.\n",
    "\n",
    "Let's import the mean_squared_error function from Scikit-learn."
   ]
  },
  {
   "cell_type": "code",
   "execution_count": 19,
   "id": "f98ab9c0-addc-4337-b65b-0c9a93db38d5",
   "metadata": {},
   "outputs": [],
   "source": [
    "from sklearn.metrics import mean_squared_error"
   ]
  },
  {
   "cell_type": "code",
   "execution_count": 20,
   "id": "bd2decf3-88ce-49d1-9189-1d44197bb1a0",
   "metadata": {},
   "outputs": [
    {
     "data": {
      "text/plain": [
       "85.7038279704333"
      ]
     },
     "execution_count": 20,
     "metadata": {},
     "output_type": "execute_result"
    }
   ],
   "source": [
    "mean_square_error = mean_squared_error(y_test, y_pred)\n",
    "mean = np.mean(mean_square_error)\n",
    "mean"
   ]
  },
  {
   "cell_type": "code",
   "execution_count": 21,
   "id": "98b7188d-d594-4e51-9187-3e19ec6c48d9",
   "metadata": {},
   "outputs": [
    {
     "data": {
      "text/plain": [
       "0.0"
      ]
     },
     "execution_count": 21,
     "metadata": {},
     "output_type": "execute_result"
    }
   ],
   "source": [
    "stdv = np.std(mean_square_error)\n",
    "stdv"
   ]
  },
  {
   "cell_type": "markdown",
   "id": "931cfe3d-2025-45a3-b93f-487407ad2810",
   "metadata": {},
   "source": [
    "Create a list of 50 mean squared errors and report mean and the standard deviation of the mean squared errors."
   ]
  },
  {
   "cell_type": "code",
   "execution_count": 22,
   "id": "654d1b4e-ceb7-46d1-b0e3-0ce8ad251e43",
   "metadata": {},
   "outputs": [
    {
     "name": "stdout",
     "output_type": "stream",
     "text": [
      "MSE: 1: 59.762725212813194\n",
      "MSE: 2: 67.31382230493243\n",
      "MSE: 3: 57.22955824102013\n",
      "MSE: 4: 68.07677385645005\n",
      "MSE: 5: 53.72172642680048\n",
      "MSE: 6: 41.99550728659028\n",
      "MSE: 7: 71.18550218501909\n",
      "MSE: 8: 41.561378380241514\n",
      "MSE: 9: 44.889203809225826\n",
      "MSE: 10: 44.80584400757231\n",
      "MSE: 11: 38.499568044174836\n",
      "MSE: 12: 36.08049351343445\n",
      "MSE: 13: 46.8458093686397\n",
      "MSE: 14: 47.59498057936388\n",
      "MSE: 15: 39.228468330161085\n",
      "MSE: 16: 42.11022043073833\n",
      "MSE: 17: 36.81035868326823\n",
      "MSE: 18: 45.08198323913377\n",
      "MSE: 19: 39.35237938840798\n",
      "MSE: 20: 35.822714598819275\n",
      "MSE: 21: 37.740694755875175\n",
      "MSE: 22: 34.3715398844006\n",
      "MSE: 23: 35.48464441145122\n",
      "MSE: 24: 34.37374373006975\n",
      "MSE: 25: 36.30769287652568\n",
      "MSE: 26: 41.192432477636245\n",
      "MSE: 27: 39.63175373015666\n",
      "MSE: 28: 33.75120307403861\n",
      "MSE: 29: 40.004363309989856\n",
      "MSE: 30: 38.532861147883644\n",
      "MSE: 31: 36.55242039702085\n",
      "MSE: 32: 30.795799854118076\n",
      "MSE: 33: 35.482664867512234\n",
      "MSE: 34: 38.254198845921984\n",
      "MSE: 35: 35.07660677517888\n",
      "MSE: 36: 37.754942032897354\n",
      "MSE: 37: 33.35954645767953\n",
      "MSE: 38: 36.77150228802826\n",
      "MSE: 39: 34.1019353094996\n",
      "MSE: 40: 34.37050042260426\n",
      "MSE: 41: 37.63907003557026\n",
      "MSE: 42: 32.02148943657242\n",
      "MSE: 43: 33.95956275841179\n",
      "MSE: 44: 41.23163022038234\n",
      "MSE: 45: 36.12485711551407\n",
      "MSE: 46: 30.173622069621164\n",
      "MSE: 47: 30.21662870734255\n",
      "MSE: 48: 32.86824871421246\n",
      "MSE: 49: 33.59607992820369\n",
      "MSE: 50: 31.66178103326594\n"
     ]
    }
   ],
   "source": [
    "\n",
    "mean_squared_errors = list()\n",
    "total_mean_square_errors = 50 \n",
    "epochs = 100\n",
    "for i in range(0, total_mean_square_errors):\n",
    "    X_train, X_test , y_train , y_test = train_test_split(predictors, target, random_state = i, test_size = 0.3) \n",
    "    model.fit(X_train, y_train , validation_split = 0.3 , epochs = epochs , verbose = 0)\n",
    "    MSE = model.evaluate(X_test, y_test, verbose = 0)\n",
    "    print(\"MSE: \"+str(i+1)+\": \"+str(MSE))\n",
    "    y_pred = model.predict(X_test)\n",
    "    mean_square_error = mean_squared_error(y_test, y_pred)\n",
    "    mean_squared_errors.append(mean_square_error)\n",
    "\n",
    "mean_squared_errors = np.array(mean_squared_errors)\n",
    "mean = np.mean(mean_squared_errors)\n",
    "standard_deviation = np.std(mean_squared_errors)"
   ]
  },
  {
   "cell_type": "code",
   "execution_count": 23,
   "id": "5645aae7-ba07-498d-ae6f-9614c21de4b0",
   "metadata": {},
   "outputs": [
    {
     "name": "stdout",
     "output_type": "stream",
     "text": [
      "\n",
      "\n",
      "Below is the mean and standard deviation of 50 mean squared errors without normalized data. Total number of epochs for each training is: 100\n",
      "\n",
      "Mean: 40.42746074159787\n",
      "Standard Deviation: 9.486234906340554\n"
     ]
    }
   ],
   "source": [
    "print('\\n')\n",
    "print(\"Below is the mean and standard deviation of \" +str(total_mean_square_errors) + \" mean squared errors without normalized data. Total number of epochs for each training is: \" +str(epochs) + \"\\n\")\n",
    "print(\"Mean: \"+str(mean))\n",
    "print(\"Standard Deviation: \"+str(standard_deviation))"
   ]
  }
 ],
 "metadata": {
  "kernelspec": {
   "display_name": "Python",
   "language": "python",
   "name": "conda-env-python-py"
  },
  "language_info": {
   "codemirror_mode": {
    "name": "ipython",
    "version": 3
   },
   "file_extension": ".py",
   "mimetype": "text/x-python",
   "name": "python",
   "nbconvert_exporter": "python",
   "pygments_lexer": "ipython3",
   "version": "3.7.12"
  }
 },
 "nbformat": 4,
 "nbformat_minor": 5
}
