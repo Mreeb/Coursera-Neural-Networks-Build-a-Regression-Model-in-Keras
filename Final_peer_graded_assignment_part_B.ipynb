{
 "cells": [
  {
   "cell_type": "markdown",
   "id": "bb9844f8-4776-4b81-82cb-e97593b17df2",
   "metadata": {},
   "source": [
    "<h2>Regression Model with Keras</h2>\n",
    "<h3>Final peer graded Assignment</h3>\n"
   ]
  },
  {
   "cell_type": "code",
   "execution_count": 1,
   "id": "e6b39dd4-6857-4dc7-8ecd-a4adc288d2f5",
   "metadata": {},
   "outputs": [],
   "source": [
    "import pandas as pd \n",
    "import numpy as np"
   ]
  },
  {
   "cell_type": "markdown",
   "id": "da82a937-7aa0-4627-bd18-cf6a32ae8666",
   "metadata": {},
   "source": [
    "I will be using the same dataset provided in the Assignment.\n",
    "\n",
    "<strong>The dataset is about the compressive strength of different samples of concrete based on the volumes of the different ingredients that were used to make them. Ingredients include:</strong>\n",
    "\n",
    "<strong>1. Cement</strong>\n",
    "\n",
    "<strong>2. Blast Furnace Slag</strong>\n",
    "\n",
    "<strong>3. Fly Ash</strong>\n",
    "\n",
    "<strong>4. Water</strong>\n",
    "\n",
    "<strong>5. Superplasticizer</strong>\n",
    "\n",
    "<strong>6. Coarse Aggregate</strong>\n",
    "\n",
    "<strong>7. Fine Aggregate</strong>\n"
   ]
  },
  {
   "cell_type": "code",
   "execution_count": 2,
   "id": "b68f8ad0-017b-4313-a01b-d58690c00828",
   "metadata": {},
   "outputs": [
    {
     "data": {
      "text/html": [
       "<div>\n",
       "<style scoped>\n",
       "    .dataframe tbody tr th:only-of-type {\n",
       "        vertical-align: middle;\n",
       "    }\n",
       "\n",
       "    .dataframe tbody tr th {\n",
       "        vertical-align: top;\n",
       "    }\n",
       "\n",
       "    .dataframe thead th {\n",
       "        text-align: right;\n",
       "    }\n",
       "</style>\n",
       "<table border=\"1\" class=\"dataframe\">\n",
       "  <thead>\n",
       "    <tr style=\"text-align: right;\">\n",
       "      <th></th>\n",
       "      <th>Cement</th>\n",
       "      <th>Blast Furnace Slag</th>\n",
       "      <th>Fly Ash</th>\n",
       "      <th>Water</th>\n",
       "      <th>Superplasticizer</th>\n",
       "      <th>Coarse Aggregate</th>\n",
       "      <th>Fine Aggregate</th>\n",
       "      <th>Age</th>\n",
       "      <th>Strength</th>\n",
       "    </tr>\n",
       "  </thead>\n",
       "  <tbody>\n",
       "    <tr>\n",
       "      <th>0</th>\n",
       "      <td>540.0</td>\n",
       "      <td>0.0</td>\n",
       "      <td>0.0</td>\n",
       "      <td>162.0</td>\n",
       "      <td>2.5</td>\n",
       "      <td>1040.0</td>\n",
       "      <td>676.0</td>\n",
       "      <td>28</td>\n",
       "      <td>79.99</td>\n",
       "    </tr>\n",
       "    <tr>\n",
       "      <th>1</th>\n",
       "      <td>540.0</td>\n",
       "      <td>0.0</td>\n",
       "      <td>0.0</td>\n",
       "      <td>162.0</td>\n",
       "      <td>2.5</td>\n",
       "      <td>1055.0</td>\n",
       "      <td>676.0</td>\n",
       "      <td>28</td>\n",
       "      <td>61.89</td>\n",
       "    </tr>\n",
       "    <tr>\n",
       "      <th>2</th>\n",
       "      <td>332.5</td>\n",
       "      <td>142.5</td>\n",
       "      <td>0.0</td>\n",
       "      <td>228.0</td>\n",
       "      <td>0.0</td>\n",
       "      <td>932.0</td>\n",
       "      <td>594.0</td>\n",
       "      <td>270</td>\n",
       "      <td>40.27</td>\n",
       "    </tr>\n",
       "  </tbody>\n",
       "</table>\n",
       "</div>"
      ],
      "text/plain": [
       "   Cement  Blast Furnace Slag  Fly Ash  Water  Superplasticizer  \\\n",
       "0   540.0                 0.0      0.0  162.0               2.5   \n",
       "1   540.0                 0.0      0.0  162.0               2.5   \n",
       "2   332.5               142.5      0.0  228.0               0.0   \n",
       "\n",
       "   Coarse Aggregate  Fine Aggregate  Age  Strength  \n",
       "0            1040.0           676.0   28     79.99  \n",
       "1            1055.0           676.0   28     61.89  \n",
       "2             932.0           594.0  270     40.27  "
      ]
     },
     "execution_count": 2,
     "metadata": {},
     "output_type": "execute_result"
    }
   ],
   "source": [
    "concrete_data = pd.read_csv('concrete_data.csv')\n",
    "concrete_data.head(3)"
   ]
  },
  {
   "cell_type": "markdown",
   "id": "1a680f5a-469c-466c-bd24-162d3eb4b2f4",
   "metadata": {},
   "source": [
    "#### Let's check how many data points we have.\n"
   ]
  },
  {
   "cell_type": "code",
   "execution_count": 3,
   "id": "6a6d7a74-f955-4c33-919f-7e719e6ffe80",
   "metadata": {},
   "outputs": [
    {
     "data": {
      "text/plain": [
       "(1030, 9)"
      ]
     },
     "execution_count": 3,
     "metadata": {},
     "output_type": "execute_result"
    }
   ],
   "source": [
    "concrete_data.shape"
   ]
  },
  {
   "cell_type": "markdown",
   "id": "d27316d1-6bb1-4115-9189-25d2ccb0a0aa",
   "metadata": {},
   "source": [
    "let's see if we have any missing values"
   ]
  },
  {
   "cell_type": "code",
   "execution_count": 4,
   "id": "f0e72059-f8da-4fe1-9494-2ed1df4ab554",
   "metadata": {},
   "outputs": [
    {
     "data": {
      "text/html": [
       "<div>\n",
       "<style scoped>\n",
       "    .dataframe tbody tr th:only-of-type {\n",
       "        vertical-align: middle;\n",
       "    }\n",
       "\n",
       "    .dataframe tbody tr th {\n",
       "        vertical-align: top;\n",
       "    }\n",
       "\n",
       "    .dataframe thead th {\n",
       "        text-align: right;\n",
       "    }\n",
       "</style>\n",
       "<table border=\"1\" class=\"dataframe\">\n",
       "  <thead>\n",
       "    <tr style=\"text-align: right;\">\n",
       "      <th></th>\n",
       "      <th>Cement</th>\n",
       "      <th>Blast Furnace Slag</th>\n",
       "      <th>Fly Ash</th>\n",
       "      <th>Water</th>\n",
       "      <th>Superplasticizer</th>\n",
       "      <th>Coarse Aggregate</th>\n",
       "      <th>Fine Aggregate</th>\n",
       "      <th>Age</th>\n",
       "      <th>Strength</th>\n",
       "    </tr>\n",
       "  </thead>\n",
       "  <tbody>\n",
       "    <tr>\n",
       "      <th>count</th>\n",
       "      <td>1030.000000</td>\n",
       "      <td>1030.000000</td>\n",
       "      <td>1030.000000</td>\n",
       "      <td>1030.000000</td>\n",
       "      <td>1030.000000</td>\n",
       "      <td>1030.000000</td>\n",
       "      <td>1030.000000</td>\n",
       "      <td>1030.000000</td>\n",
       "      <td>1030.000000</td>\n",
       "    </tr>\n",
       "    <tr>\n",
       "      <th>mean</th>\n",
       "      <td>281.167864</td>\n",
       "      <td>73.895825</td>\n",
       "      <td>54.188350</td>\n",
       "      <td>181.567282</td>\n",
       "      <td>6.204660</td>\n",
       "      <td>972.918932</td>\n",
       "      <td>773.580485</td>\n",
       "      <td>45.662136</td>\n",
       "      <td>35.817961</td>\n",
       "    </tr>\n",
       "    <tr>\n",
       "      <th>std</th>\n",
       "      <td>104.506364</td>\n",
       "      <td>86.279342</td>\n",
       "      <td>63.997004</td>\n",
       "      <td>21.354219</td>\n",
       "      <td>5.973841</td>\n",
       "      <td>77.753954</td>\n",
       "      <td>80.175980</td>\n",
       "      <td>63.169912</td>\n",
       "      <td>16.705742</td>\n",
       "    </tr>\n",
       "    <tr>\n",
       "      <th>min</th>\n",
       "      <td>102.000000</td>\n",
       "      <td>0.000000</td>\n",
       "      <td>0.000000</td>\n",
       "      <td>121.800000</td>\n",
       "      <td>0.000000</td>\n",
       "      <td>801.000000</td>\n",
       "      <td>594.000000</td>\n",
       "      <td>1.000000</td>\n",
       "      <td>2.330000</td>\n",
       "    </tr>\n",
       "    <tr>\n",
       "      <th>25%</th>\n",
       "      <td>192.375000</td>\n",
       "      <td>0.000000</td>\n",
       "      <td>0.000000</td>\n",
       "      <td>164.900000</td>\n",
       "      <td>0.000000</td>\n",
       "      <td>932.000000</td>\n",
       "      <td>730.950000</td>\n",
       "      <td>7.000000</td>\n",
       "      <td>23.710000</td>\n",
       "    </tr>\n",
       "    <tr>\n",
       "      <th>50%</th>\n",
       "      <td>272.900000</td>\n",
       "      <td>22.000000</td>\n",
       "      <td>0.000000</td>\n",
       "      <td>185.000000</td>\n",
       "      <td>6.400000</td>\n",
       "      <td>968.000000</td>\n",
       "      <td>779.500000</td>\n",
       "      <td>28.000000</td>\n",
       "      <td>34.445000</td>\n",
       "    </tr>\n",
       "    <tr>\n",
       "      <th>75%</th>\n",
       "      <td>350.000000</td>\n",
       "      <td>142.950000</td>\n",
       "      <td>118.300000</td>\n",
       "      <td>192.000000</td>\n",
       "      <td>10.200000</td>\n",
       "      <td>1029.400000</td>\n",
       "      <td>824.000000</td>\n",
       "      <td>56.000000</td>\n",
       "      <td>46.135000</td>\n",
       "    </tr>\n",
       "    <tr>\n",
       "      <th>max</th>\n",
       "      <td>540.000000</td>\n",
       "      <td>359.400000</td>\n",
       "      <td>200.100000</td>\n",
       "      <td>247.000000</td>\n",
       "      <td>32.200000</td>\n",
       "      <td>1145.000000</td>\n",
       "      <td>992.600000</td>\n",
       "      <td>365.000000</td>\n",
       "      <td>82.600000</td>\n",
       "    </tr>\n",
       "  </tbody>\n",
       "</table>\n",
       "</div>"
      ],
      "text/plain": [
       "            Cement  Blast Furnace Slag      Fly Ash        Water  \\\n",
       "count  1030.000000         1030.000000  1030.000000  1030.000000   \n",
       "mean    281.167864           73.895825    54.188350   181.567282   \n",
       "std     104.506364           86.279342    63.997004    21.354219   \n",
       "min     102.000000            0.000000     0.000000   121.800000   \n",
       "25%     192.375000            0.000000     0.000000   164.900000   \n",
       "50%     272.900000           22.000000     0.000000   185.000000   \n",
       "75%     350.000000          142.950000   118.300000   192.000000   \n",
       "max     540.000000          359.400000   200.100000   247.000000   \n",
       "\n",
       "       Superplasticizer  Coarse Aggregate  Fine Aggregate          Age  \\\n",
       "count       1030.000000       1030.000000     1030.000000  1030.000000   \n",
       "mean           6.204660        972.918932      773.580485    45.662136   \n",
       "std            5.973841         77.753954       80.175980    63.169912   \n",
       "min            0.000000        801.000000      594.000000     1.000000   \n",
       "25%            0.000000        932.000000      730.950000     7.000000   \n",
       "50%            6.400000        968.000000      779.500000    28.000000   \n",
       "75%           10.200000       1029.400000      824.000000    56.000000   \n",
       "max           32.200000       1145.000000      992.600000   365.000000   \n",
       "\n",
       "          Strength  \n",
       "count  1030.000000  \n",
       "mean     35.817961  \n",
       "std      16.705742  \n",
       "min       2.330000  \n",
       "25%      23.710000  \n",
       "50%      34.445000  \n",
       "75%      46.135000  \n",
       "max      82.600000  "
      ]
     },
     "execution_count": 4,
     "metadata": {},
     "output_type": "execute_result"
    }
   ],
   "source": [
    "concrete_data.describe()"
   ]
  },
  {
   "cell_type": "code",
   "execution_count": 5,
   "id": "a351e256-5a80-4bf2-8586-058e846b17d1",
   "metadata": {},
   "outputs": [
    {
     "data": {
      "text/plain": [
       "Cement                0\n",
       "Blast Furnace Slag    0\n",
       "Fly Ash               0\n",
       "Water                 0\n",
       "Superplasticizer      0\n",
       "Coarse Aggregate      0\n",
       "Fine Aggregate        0\n",
       "Age                   0\n",
       "Strength              0\n",
       "dtype: int64"
      ]
     },
     "execution_count": 5,
     "metadata": {},
     "output_type": "execute_result"
    }
   ],
   "source": [
    "concrete_data.isnull().sum()"
   ]
  },
  {
   "cell_type": "markdown",
   "id": "1d6f8f28-6226-43d7-9e10-25cbbc4eee27",
   "metadata": {},
   "source": [
    "The data is Clean so lets bulid our model"
   ]
  },
  {
   "cell_type": "code",
   "execution_count": 6,
   "id": "79c589de-ef66-4aaa-80ad-460da5c45eca",
   "metadata": {},
   "outputs": [
    {
     "data": {
      "text/plain": [
       "Index(['Cement', 'Blast Furnace Slag', 'Fly Ash', 'Water', 'Superplasticizer',\n",
       "       'Coarse Aggregate', 'Fine Aggregate', 'Age', 'Strength'],\n",
       "      dtype='object')"
      ]
     },
     "execution_count": 6,
     "metadata": {},
     "output_type": "execute_result"
    }
   ],
   "source": [
    "concrete_data_cols = concrete_data.columns\n",
    "concrete_data_cols"
   ]
  },
  {
   "cell_type": "code",
   "execution_count": 7,
   "id": "add14ca9-01bf-43b4-a9a2-9b88b692de69",
   "metadata": {},
   "outputs": [],
   "source": [
    "predictors = concrete_data[concrete_data_cols[concrete_data_cols != 'Strength']]  #ALL COLUMNS EXCEPT THE STENGTH COLUMN\n",
    "target = concrete_data['Strength'] # THE STRENGTH COLUMN"
   ]
  },
  {
   "cell_type": "code",
   "execution_count": 8,
   "id": "c18f63fe-4ad8-4e57-9850-1e6fec7c88d4",
   "metadata": {},
   "outputs": [
    {
     "data": {
      "text/html": [
       "<div>\n",
       "<style scoped>\n",
       "    .dataframe tbody tr th:only-of-type {\n",
       "        vertical-align: middle;\n",
       "    }\n",
       "\n",
       "    .dataframe tbody tr th {\n",
       "        vertical-align: top;\n",
       "    }\n",
       "\n",
       "    .dataframe thead th {\n",
       "        text-align: right;\n",
       "    }\n",
       "</style>\n",
       "<table border=\"1\" class=\"dataframe\">\n",
       "  <thead>\n",
       "    <tr style=\"text-align: right;\">\n",
       "      <th></th>\n",
       "      <th>Cement</th>\n",
       "      <th>Blast Furnace Slag</th>\n",
       "      <th>Fly Ash</th>\n",
       "      <th>Water</th>\n",
       "      <th>Superplasticizer</th>\n",
       "      <th>Coarse Aggregate</th>\n",
       "      <th>Fine Aggregate</th>\n",
       "      <th>Age</th>\n",
       "    </tr>\n",
       "  </thead>\n",
       "  <tbody>\n",
       "    <tr>\n",
       "      <th>0</th>\n",
       "      <td>540.0</td>\n",
       "      <td>0.0</td>\n",
       "      <td>0.0</td>\n",
       "      <td>162.0</td>\n",
       "      <td>2.5</td>\n",
       "      <td>1040.0</td>\n",
       "      <td>676.0</td>\n",
       "      <td>28</td>\n",
       "    </tr>\n",
       "    <tr>\n",
       "      <th>1</th>\n",
       "      <td>540.0</td>\n",
       "      <td>0.0</td>\n",
       "      <td>0.0</td>\n",
       "      <td>162.0</td>\n",
       "      <td>2.5</td>\n",
       "      <td>1055.0</td>\n",
       "      <td>676.0</td>\n",
       "      <td>28</td>\n",
       "    </tr>\n",
       "    <tr>\n",
       "      <th>2</th>\n",
       "      <td>332.5</td>\n",
       "      <td>142.5</td>\n",
       "      <td>0.0</td>\n",
       "      <td>228.0</td>\n",
       "      <td>0.0</td>\n",
       "      <td>932.0</td>\n",
       "      <td>594.0</td>\n",
       "      <td>270</td>\n",
       "    </tr>\n",
       "  </tbody>\n",
       "</table>\n",
       "</div>"
      ],
      "text/plain": [
       "   Cement  Blast Furnace Slag  Fly Ash  Water  Superplasticizer  \\\n",
       "0   540.0                 0.0      0.0  162.0               2.5   \n",
       "1   540.0                 0.0      0.0  162.0               2.5   \n",
       "2   332.5               142.5      0.0  228.0               0.0   \n",
       "\n",
       "   Coarse Aggregate  Fine Aggregate  Age  \n",
       "0            1040.0           676.0   28  \n",
       "1            1055.0           676.0   28  \n",
       "2             932.0           594.0  270  "
      ]
     },
     "execution_count": 8,
     "metadata": {},
     "output_type": "execute_result"
    }
   ],
   "source": [
    "predictors.head(3)"
   ]
  },
  {
   "cell_type": "code",
   "execution_count": 9,
   "id": "46ffc618-56b7-44bd-8905-df88a69a3c10",
   "metadata": {},
   "outputs": [
    {
     "data": {
      "text/plain": [
       "0    79.99\n",
       "1    61.89\n",
       "2    40.27\n",
       "Name: Strength, dtype: float64"
      ]
     },
     "execution_count": 9,
     "metadata": {},
     "output_type": "execute_result"
    }
   ],
   "source": [
    "target.head(3)"
   ]
  },
  {
   "cell_type": "code",
   "execution_count": 10,
   "id": "67efcf82-2199-4e7f-b855-93f6c56109b1",
   "metadata": {},
   "outputs": [
    {
     "data": {
      "text/html": [
       "<div>\n",
       "<style scoped>\n",
       "    .dataframe tbody tr th:only-of-type {\n",
       "        vertical-align: middle;\n",
       "    }\n",
       "\n",
       "    .dataframe tbody tr th {\n",
       "        vertical-align: top;\n",
       "    }\n",
       "\n",
       "    .dataframe thead th {\n",
       "        text-align: right;\n",
       "    }\n",
       "</style>\n",
       "<table border=\"1\" class=\"dataframe\">\n",
       "  <thead>\n",
       "    <tr style=\"text-align: right;\">\n",
       "      <th></th>\n",
       "      <th>Cement</th>\n",
       "      <th>Blast Furnace Slag</th>\n",
       "      <th>Fly Ash</th>\n",
       "      <th>Water</th>\n",
       "      <th>Superplasticizer</th>\n",
       "      <th>Coarse Aggregate</th>\n",
       "      <th>Fine Aggregate</th>\n",
       "      <th>Age</th>\n",
       "    </tr>\n",
       "  </thead>\n",
       "  <tbody>\n",
       "    <tr>\n",
       "      <th>0</th>\n",
       "      <td>2.476712</td>\n",
       "      <td>-0.856472</td>\n",
       "      <td>-0.846733</td>\n",
       "      <td>-0.916319</td>\n",
       "      <td>-0.620147</td>\n",
       "      <td>0.862735</td>\n",
       "      <td>-1.217079</td>\n",
       "      <td>-0.279597</td>\n",
       "    </tr>\n",
       "    <tr>\n",
       "      <th>1</th>\n",
       "      <td>2.476712</td>\n",
       "      <td>-0.856472</td>\n",
       "      <td>-0.846733</td>\n",
       "      <td>-0.916319</td>\n",
       "      <td>-0.620147</td>\n",
       "      <td>1.055651</td>\n",
       "      <td>-1.217079</td>\n",
       "      <td>-0.279597</td>\n",
       "    </tr>\n",
       "    <tr>\n",
       "      <th>2</th>\n",
       "      <td>0.491187</td>\n",
       "      <td>0.795140</td>\n",
       "      <td>-0.846733</td>\n",
       "      <td>2.174405</td>\n",
       "      <td>-1.038638</td>\n",
       "      <td>-0.526262</td>\n",
       "      <td>-2.239829</td>\n",
       "      <td>3.551340</td>\n",
       "    </tr>\n",
       "    <tr>\n",
       "      <th>3</th>\n",
       "      <td>0.491187</td>\n",
       "      <td>0.795140</td>\n",
       "      <td>-0.846733</td>\n",
       "      <td>2.174405</td>\n",
       "      <td>-1.038638</td>\n",
       "      <td>-0.526262</td>\n",
       "      <td>-2.239829</td>\n",
       "      <td>5.055221</td>\n",
       "    </tr>\n",
       "    <tr>\n",
       "      <th>4</th>\n",
       "      <td>-0.790075</td>\n",
       "      <td>0.678079</td>\n",
       "      <td>-0.846733</td>\n",
       "      <td>0.488555</td>\n",
       "      <td>-1.038638</td>\n",
       "      <td>0.070492</td>\n",
       "      <td>0.647569</td>\n",
       "      <td>4.976069</td>\n",
       "    </tr>\n",
       "    <tr>\n",
       "      <th>...</th>\n",
       "      <td>...</td>\n",
       "      <td>...</td>\n",
       "      <td>...</td>\n",
       "      <td>...</td>\n",
       "      <td>...</td>\n",
       "      <td>...</td>\n",
       "      <td>...</td>\n",
       "      <td>...</td>\n",
       "    </tr>\n",
       "    <tr>\n",
       "      <th>1025</th>\n",
       "      <td>-0.045623</td>\n",
       "      <td>0.487998</td>\n",
       "      <td>0.564271</td>\n",
       "      <td>-0.092126</td>\n",
       "      <td>0.451190</td>\n",
       "      <td>-1.322363</td>\n",
       "      <td>-0.065861</td>\n",
       "      <td>-0.279597</td>\n",
       "    </tr>\n",
       "    <tr>\n",
       "      <th>1026</th>\n",
       "      <td>0.392628</td>\n",
       "      <td>-0.856472</td>\n",
       "      <td>0.959602</td>\n",
       "      <td>0.675872</td>\n",
       "      <td>0.702285</td>\n",
       "      <td>-1.993711</td>\n",
       "      <td>0.496651</td>\n",
       "      <td>-0.279597</td>\n",
       "    </tr>\n",
       "    <tr>\n",
       "      <th>1027</th>\n",
       "      <td>-1.269472</td>\n",
       "      <td>0.759210</td>\n",
       "      <td>0.850222</td>\n",
       "      <td>0.521336</td>\n",
       "      <td>-0.017520</td>\n",
       "      <td>-1.035561</td>\n",
       "      <td>0.080068</td>\n",
       "      <td>-0.279597</td>\n",
       "    </tr>\n",
       "    <tr>\n",
       "      <th>1028</th>\n",
       "      <td>-1.168042</td>\n",
       "      <td>1.307430</td>\n",
       "      <td>-0.846733</td>\n",
       "      <td>-0.279443</td>\n",
       "      <td>0.852942</td>\n",
       "      <td>0.214537</td>\n",
       "      <td>0.191074</td>\n",
       "      <td>-0.279597</td>\n",
       "    </tr>\n",
       "    <tr>\n",
       "      <th>1029</th>\n",
       "      <td>-0.193939</td>\n",
       "      <td>0.308349</td>\n",
       "      <td>0.376762</td>\n",
       "      <td>0.891286</td>\n",
       "      <td>0.400971</td>\n",
       "      <td>-1.394385</td>\n",
       "      <td>-0.150675</td>\n",
       "      <td>-0.279597</td>\n",
       "    </tr>\n",
       "  </tbody>\n",
       "</table>\n",
       "<p>1030 rows × 8 columns</p>\n",
       "</div>"
      ],
      "text/plain": [
       "        Cement  Blast Furnace Slag   Fly Ash     Water  Superplasticizer  \\\n",
       "0     2.476712           -0.856472 -0.846733 -0.916319         -0.620147   \n",
       "1     2.476712           -0.856472 -0.846733 -0.916319         -0.620147   \n",
       "2     0.491187            0.795140 -0.846733  2.174405         -1.038638   \n",
       "3     0.491187            0.795140 -0.846733  2.174405         -1.038638   \n",
       "4    -0.790075            0.678079 -0.846733  0.488555         -1.038638   \n",
       "...        ...                 ...       ...       ...               ...   \n",
       "1025 -0.045623            0.487998  0.564271 -0.092126          0.451190   \n",
       "1026  0.392628           -0.856472  0.959602  0.675872          0.702285   \n",
       "1027 -1.269472            0.759210  0.850222  0.521336         -0.017520   \n",
       "1028 -1.168042            1.307430 -0.846733 -0.279443          0.852942   \n",
       "1029 -0.193939            0.308349  0.376762  0.891286          0.400971   \n",
       "\n",
       "      Coarse Aggregate  Fine Aggregate       Age  \n",
       "0             0.862735       -1.217079 -0.279597  \n",
       "1             1.055651       -1.217079 -0.279597  \n",
       "2            -0.526262       -2.239829  3.551340  \n",
       "3            -0.526262       -2.239829  5.055221  \n",
       "4             0.070492        0.647569  4.976069  \n",
       "...                ...             ...       ...  \n",
       "1025         -1.322363       -0.065861 -0.279597  \n",
       "1026         -1.993711        0.496651 -0.279597  \n",
       "1027         -1.035561        0.080068 -0.279597  \n",
       "1028          0.214537        0.191074 -0.279597  \n",
       "1029         -1.394385       -0.150675 -0.279597  \n",
       "\n",
       "[1030 rows x 8 columns]"
      ]
     },
     "execution_count": 10,
     "metadata": {},
     "output_type": "execute_result"
    }
   ],
   "source": [
    "predictors_norm = (predictors - predictors.mean())/ predictors.std()\n",
    "predictors_norm"
   ]
  },
  {
   "cell_type": "markdown",
   "id": "6bce7bd6-2f56-495e-8f8a-d6789b23a14a",
   "metadata": {},
   "source": [
    "Lets see the No of cols predictors have"
   ]
  },
  {
   "cell_type": "code",
   "execution_count": 11,
   "id": "574500a6-f318-4a1f-8896-1543ea5636d5",
   "metadata": {},
   "outputs": [
    {
     "data": {
      "text/plain": [
       "8"
      ]
     },
     "execution_count": 11,
     "metadata": {},
     "output_type": "execute_result"
    }
   ],
   "source": [
    "n_cols = predictors_norm.shape[1]\n",
    "n_cols"
   ]
  },
  {
   "cell_type": "markdown",
   "id": "f515ae6d-aaa2-4b7e-a068-db221f25dc2e",
   "metadata": {},
   "source": [
    "Lets import the Keras library and other packages from Keras library"
   ]
  },
  {
   "cell_type": "code",
   "execution_count": 12,
   "id": "6259cb47-e140-4e4d-b844-01af39dad8aa",
   "metadata": {},
   "outputs": [
    {
     "name": "stderr",
     "output_type": "stream",
     "text": [
      "Using TensorFlow backend.\n",
      "/home/jupyterlab/conda/envs/python/lib/python3.7/site-packages/tensorflow/python/framework/dtypes.py:516: FutureWarning: Passing (type, 1) or '1type' as a synonym of type is deprecated; in a future version of numpy, it will be understood as (type, (1,)) / '(1,)type'.\n",
      "  _np_qint8 = np.dtype([(\"qint8\", np.int8, 1)])\n",
      "/home/jupyterlab/conda/envs/python/lib/python3.7/site-packages/tensorflow/python/framework/dtypes.py:517: FutureWarning: Passing (type, 1) or '1type' as a synonym of type is deprecated; in a future version of numpy, it will be understood as (type, (1,)) / '(1,)type'.\n",
      "  _np_quint8 = np.dtype([(\"quint8\", np.uint8, 1)])\n",
      "/home/jupyterlab/conda/envs/python/lib/python3.7/site-packages/tensorflow/python/framework/dtypes.py:518: FutureWarning: Passing (type, 1) or '1type' as a synonym of type is deprecated; in a future version of numpy, it will be understood as (type, (1,)) / '(1,)type'.\n",
      "  _np_qint16 = np.dtype([(\"qint16\", np.int16, 1)])\n",
      "/home/jupyterlab/conda/envs/python/lib/python3.7/site-packages/tensorflow/python/framework/dtypes.py:519: FutureWarning: Passing (type, 1) or '1type' as a synonym of type is deprecated; in a future version of numpy, it will be understood as (type, (1,)) / '(1,)type'.\n",
      "  _np_quint16 = np.dtype([(\"quint16\", np.uint16, 1)])\n",
      "/home/jupyterlab/conda/envs/python/lib/python3.7/site-packages/tensorflow/python/framework/dtypes.py:520: FutureWarning: Passing (type, 1) or '1type' as a synonym of type is deprecated; in a future version of numpy, it will be understood as (type, (1,)) / '(1,)type'.\n",
      "  _np_qint32 = np.dtype([(\"qint32\", np.int32, 1)])\n",
      "/home/jupyterlab/conda/envs/python/lib/python3.7/site-packages/tensorflow/python/framework/dtypes.py:525: FutureWarning: Passing (type, 1) or '1type' as a synonym of type is deprecated; in a future version of numpy, it will be understood as (type, (1,)) / '(1,)type'.\n",
      "  np_resource = np.dtype([(\"resource\", np.ubyte, 1)])\n",
      "/home/jupyterlab/conda/envs/python/lib/python3.7/site-packages/tensorboard/compat/tensorflow_stub/dtypes.py:541: FutureWarning: Passing (type, 1) or '1type' as a synonym of type is deprecated; in a future version of numpy, it will be understood as (type, (1,)) / '(1,)type'.\n",
      "  _np_qint8 = np.dtype([(\"qint8\", np.int8, 1)])\n",
      "/home/jupyterlab/conda/envs/python/lib/python3.7/site-packages/tensorboard/compat/tensorflow_stub/dtypes.py:542: FutureWarning: Passing (type, 1) or '1type' as a synonym of type is deprecated; in a future version of numpy, it will be understood as (type, (1,)) / '(1,)type'.\n",
      "  _np_quint8 = np.dtype([(\"quint8\", np.uint8, 1)])\n",
      "/home/jupyterlab/conda/envs/python/lib/python3.7/site-packages/tensorboard/compat/tensorflow_stub/dtypes.py:543: FutureWarning: Passing (type, 1) or '1type' as a synonym of type is deprecated; in a future version of numpy, it will be understood as (type, (1,)) / '(1,)type'.\n",
      "  _np_qint16 = np.dtype([(\"qint16\", np.int16, 1)])\n",
      "/home/jupyterlab/conda/envs/python/lib/python3.7/site-packages/tensorboard/compat/tensorflow_stub/dtypes.py:544: FutureWarning: Passing (type, 1) or '1type' as a synonym of type is deprecated; in a future version of numpy, it will be understood as (type, (1,)) / '(1,)type'.\n",
      "  _np_quint16 = np.dtype([(\"quint16\", np.uint16, 1)])\n",
      "/home/jupyterlab/conda/envs/python/lib/python3.7/site-packages/tensorboard/compat/tensorflow_stub/dtypes.py:545: FutureWarning: Passing (type, 1) or '1type' as a synonym of type is deprecated; in a future version of numpy, it will be understood as (type, (1,)) / '(1,)type'.\n",
      "  _np_qint32 = np.dtype([(\"qint32\", np.int32, 1)])\n",
      "/home/jupyterlab/conda/envs/python/lib/python3.7/site-packages/tensorboard/compat/tensorflow_stub/dtypes.py:550: FutureWarning: Passing (type, 1) or '1type' as a synonym of type is deprecated; in a future version of numpy, it will be understood as (type, (1,)) / '(1,)type'.\n",
      "  np_resource = np.dtype([(\"resource\", np.ubyte, 1)])\n"
     ]
    }
   ],
   "source": [
    "import keras\n",
    "from keras.models import Sequential\n",
    "from keras.layers import Dense"
   ]
  },
  {
   "cell_type": "markdown",
   "id": "27e8c615-4ffe-4a92-b32f-50db24ac9b8e",
   "metadata": {},
   "source": [
    "Now Lets bulild the neural network"
   ]
  },
  {
   "cell_type": "code",
   "execution_count": 13,
   "id": "e75f3957-9a4f-46b7-adbe-0271bf45b186",
   "metadata": {},
   "outputs": [],
   "source": [
    "def regression_model():\n",
    "    model = Sequential()\n",
    "    model.add(Dense(50,activation = 'relu', input_shape = (n_cols,)))\n",
    "    model.add(Dense(50 , activation = 'relu'))\n",
    "    model.add(Dense(1))\n",
    "    \n",
    "    model.compile(optimizer = 'adam', loss = 'mean_squared_error')\n",
    "    return model"
   ]
  },
  {
   "cell_type": "markdown",
   "id": "7f231d0f-d312-4e0b-b5ee-7faf05492202",
   "metadata": {},
   "source": [
    "The above function create a model that has two hidden layers, each of 50 hidden units."
   ]
  },
  {
   "cell_type": "markdown",
   "id": "03d5f963-c826-4dbe-bbae-96cddcc21266",
   "metadata": {},
   "source": [
    "## Train and Test Split from Sklearn\n"
   ]
  },
  {
   "cell_type": "code",
   "execution_count": 14,
   "id": "d40ec778-5f56-4bb9-8db7-a14209cc5b02",
   "metadata": {},
   "outputs": [
    {
     "name": "stderr",
     "output_type": "stream",
     "text": [
      "/home/jupyterlab/conda/envs/python/lib/python3.7/site-packages/sklearn/utils/validation.py:37: DeprecationWarning: distutils Version classes are deprecated. Use packaging.version instead.\n",
      "  LARGE_SPARSE_SUPPORTED = LooseVersion(scipy_version) >= '0.14.0'\n"
     ]
    }
   ],
   "source": [
    "from sklearn.model_selection import train_test_split"
   ]
  },
  {
   "cell_type": "markdown",
   "id": "d479480e-ed07-45fb-99eb-6a1a56f0050c",
   "metadata": {},
   "source": [
    "Splitting the data into a training and test sets by holding 30% of the data for testing\n",
    "\n"
   ]
  },
  {
   "cell_type": "code",
   "execution_count": 15,
   "id": "6f45ca1f-543d-48dd-a931-6b87f6a67d91",
   "metadata": {},
   "outputs": [],
   "source": [
    "X_train, X_test , y_train , y_test = train_test_split(predictors, target, random_state = 4, test_size = 0.3) "
   ]
  },
  {
   "cell_type": "markdown",
   "id": "fda3ee3a-ba1d-48ae-881c-14e92dc40403",
   "metadata": {},
   "source": [
    "Let's call the function now to create our model.\n"
   ]
  },
  {
   "cell_type": "code",
   "execution_count": 16,
   "id": "4091770d-047b-4073-bc00-b9ee6421c7c5",
   "metadata": {},
   "outputs": [
    {
     "name": "stdout",
     "output_type": "stream",
     "text": [
      "WARNING:tensorflow:From /home/jupyterlab/conda/envs/python/lib/python3.7/site-packages/keras/backend/tensorflow_backend.py:68: The name tf.get_default_graph is deprecated. Please use tf.compat.v1.get_default_graph instead.\n",
      "\n",
      "WARNING:tensorflow:From /home/jupyterlab/conda/envs/python/lib/python3.7/site-packages/keras/backend/tensorflow_backend.py:508: The name tf.placeholder is deprecated. Please use tf.compat.v1.placeholder instead.\n",
      "\n",
      "WARNING:tensorflow:From /home/jupyterlab/conda/envs/python/lib/python3.7/site-packages/keras/backend/tensorflow_backend.py:3837: The name tf.random_uniform is deprecated. Please use tf.random.uniform instead.\n",
      "\n",
      "WARNING:tensorflow:From /home/jupyterlab/conda/envs/python/lib/python3.7/site-packages/keras/optimizers.py:757: The name tf.train.Optimizer is deprecated. Please use tf.compat.v1.train.Optimizer instead.\n",
      "\n"
     ]
    }
   ],
   "source": [
    "model = regression_model()"
   ]
  },
  {
   "cell_type": "markdown",
   "id": "52c9aca8-8979-484e-a102-cc821a2ec333",
   "metadata": {},
   "source": [
    "Next, we will train and test the model at the same time using the *fit* method. We will leave out 30% of the data for validation and we will train the model for 100 epochs.\n"
   ]
  },
  {
   "cell_type": "code",
   "execution_count": 17,
   "id": "3764bccf-db27-41fb-87cb-a700ea359843",
   "metadata": {},
   "outputs": [
    {
     "name": "stdout",
     "output_type": "stream",
     "text": [
      "WARNING:tensorflow:From /home/jupyterlab/conda/envs/python/lib/python3.7/site-packages/keras/backend/tensorflow_backend.py:977: The name tf.assign_add is deprecated. Please use tf.compat.v1.assign_add instead.\n",
      "\n",
      "WARNING:tensorflow:From /home/jupyterlab/conda/envs/python/lib/python3.7/site-packages/keras/backend/tensorflow_backend.py:964: The name tf.assign is deprecated. Please use tf.compat.v1.assign instead.\n",
      "\n",
      "Train on 504 samples, validate on 217 samples\n",
      "Epoch 1/50\n"
     ]
    },
    {
     "name": "stderr",
     "output_type": "stream",
     "text": [
      "2022-08-26 14:04:47.784509: I tensorflow/core/platform/cpu_feature_guard.cc:142] Your CPU supports instructions that this TensorFlow binary was not compiled to use: SSE4.1 SSE4.2 AVX AVX2 AVX512F FMA\n",
      "2022-08-26 14:04:47.791065: I tensorflow/core/platform/profile_utils/cpu_utils.cc:94] CPU Frequency: 2593900000 Hz\n",
      "2022-08-26 14:04:47.791848: I tensorflow/compiler/xla/service/service.cc:168] XLA service 0x5587e1ab3000 executing computations on platform Host. Devices:\n",
      "2022-08-26 14:04:47.791901: I tensorflow/compiler/xla/service/service.cc:175]   StreamExecutor device (0): <undefined>, <undefined>\n",
      "2022-08-26 14:04:47.893984: W tensorflow/compiler/jit/mark_for_compilation_pass.cc:1412] (One-time warning): Not using XLA:CPU for cluster because envvar TF_XLA_FLAGS=--tf_xla_cpu_global_jit was not set.  If you want XLA:CPU, either set that envvar, or use experimental_jit_scope to enable XLA:CPU.  To confirm that XLA is active, pass --vmodule=xla_compilation_cache=1 (as a proper command-line flag, not via TF_XLA_FLAGS) or set the envvar XLA_FLAGS=--xla_hlo_profile.\n"
     ]
    },
    {
     "name": "stdout",
     "output_type": "stream",
     "text": [
      "504/504 [==============================] - 0s 649us/step - loss: 6686.6441 - val_loss: 1133.5415\n",
      "Epoch 2/50\n",
      "504/504 [==============================] - 0s 130us/step - loss: 766.9806 - val_loss: 269.3387\n",
      "Epoch 3/50\n",
      "504/504 [==============================] - 0s 133us/step - loss: 336.7053 - val_loss: 276.5818\n",
      "Epoch 4/50\n",
      "504/504 [==============================] - 0s 151us/step - loss: 242.8277 - val_loss: 198.0626\n",
      "Epoch 5/50\n",
      "504/504 [==============================] - 0s 126us/step - loss: 172.6123 - val_loss: 164.1035\n",
      "Epoch 6/50\n",
      "504/504 [==============================] - 0s 145us/step - loss: 153.1899 - val_loss: 159.4243\n",
      "Epoch 7/50\n",
      "504/504 [==============================] - 0s 128us/step - loss: 142.1903 - val_loss: 155.0512\n",
      "Epoch 8/50\n",
      "504/504 [==============================] - 0s 121us/step - loss: 139.3551 - val_loss: 150.0065\n",
      "Epoch 9/50\n",
      "504/504 [==============================] - 0s 140us/step - loss: 131.5097 - val_loss: 145.5295\n",
      "Epoch 10/50\n",
      "504/504 [==============================] - 0s 124us/step - loss: 127.7117 - val_loss: 140.0621\n",
      "Epoch 11/50\n",
      "504/504 [==============================] - 0s 124us/step - loss: 126.1725 - val_loss: 138.5012\n",
      "Epoch 12/50\n",
      "504/504 [==============================] - 0s 121us/step - loss: 121.6276 - val_loss: 130.6515\n",
      "Epoch 13/50\n",
      "504/504 [==============================] - 0s 114us/step - loss: 116.8442 - val_loss: 128.3219\n",
      "Epoch 14/50\n",
      "504/504 [==============================] - 0s 116us/step - loss: 113.8807 - val_loss: 124.4037\n",
      "Epoch 15/50\n",
      "504/504 [==============================] - 0s 126us/step - loss: 112.4819 - val_loss: 126.9110\n",
      "Epoch 16/50\n",
      "504/504 [==============================] - 0s 108us/step - loss: 112.8833 - val_loss: 125.7170\n",
      "Epoch 17/50\n",
      "504/504 [==============================] - 0s 118us/step - loss: 105.1897 - val_loss: 124.9723\n",
      "Epoch 18/50\n",
      "504/504 [==============================] - 0s 144us/step - loss: 103.2146 - val_loss: 112.3754\n",
      "Epoch 19/50\n",
      "504/504 [==============================] - 0s 93us/step - loss: 98.8785 - val_loss: 110.1982\n",
      "Epoch 20/50\n",
      "504/504 [==============================] - 0s 117us/step - loss: 96.6524 - val_loss: 105.0410\n",
      "Epoch 21/50\n",
      "504/504 [==============================] - 0s 117us/step - loss: 92.8685 - val_loss: 102.4438\n",
      "Epoch 22/50\n",
      "504/504 [==============================] - 0s 142us/step - loss: 91.7654 - val_loss: 107.6987\n",
      "Epoch 23/50\n",
      "504/504 [==============================] - 0s 116us/step - loss: 88.4467 - val_loss: 105.1122\n",
      "Epoch 24/50\n",
      "504/504 [==============================] - 0s 95us/step - loss: 83.5083 - val_loss: 99.6917\n",
      "Epoch 25/50\n",
      "504/504 [==============================] - 0s 145us/step - loss: 80.5591 - val_loss: 92.9337\n",
      "Epoch 26/50\n",
      "504/504 [==============================] - 0s 109us/step - loss: 79.3012 - val_loss: 89.4461\n",
      "Epoch 27/50\n",
      "504/504 [==============================] - 0s 100us/step - loss: 75.0023 - val_loss: 87.9030\n",
      "Epoch 28/50\n",
      "504/504 [==============================] - 0s 108us/step - loss: 74.4615 - val_loss: 85.7961\n",
      "Epoch 29/50\n",
      "504/504 [==============================] - 0s 118us/step - loss: 73.5265 - val_loss: 83.0565\n",
      "Epoch 30/50\n",
      "504/504 [==============================] - 0s 118us/step - loss: 70.3487 - val_loss: 82.8933\n",
      "Epoch 31/50\n",
      "504/504 [==============================] - 0s 115us/step - loss: 71.4334 - val_loss: 105.3749\n",
      "Epoch 32/50\n",
      "504/504 [==============================] - 0s 120us/step - loss: 72.1299 - val_loss: 86.7989\n",
      "Epoch 33/50\n",
      "504/504 [==============================] - 0s 115us/step - loss: 67.0159 - val_loss: 78.3355\n",
      "Epoch 34/50\n",
      "504/504 [==============================] - 0s 125us/step - loss: 65.6088 - val_loss: 77.2650\n",
      "Epoch 35/50\n",
      "504/504 [==============================] - 0s 114us/step - loss: 64.6117 - val_loss: 79.4533\n",
      "Epoch 36/50\n",
      "504/504 [==============================] - 0s 117us/step - loss: 63.0876 - val_loss: 79.6936\n",
      "Epoch 37/50\n",
      "504/504 [==============================] - 0s 114us/step - loss: 61.7145 - val_loss: 74.0732\n",
      "Epoch 38/50\n",
      "504/504 [==============================] - 0s 114us/step - loss: 60.4990 - val_loss: 74.7673\n",
      "Epoch 39/50\n",
      "504/504 [==============================] - 0s 110us/step - loss: 61.0647 - val_loss: 81.5409\n",
      "Epoch 40/50\n",
      "504/504 [==============================] - 0s 96us/step - loss: 61.9146 - val_loss: 89.5798\n",
      "Epoch 41/50\n",
      "504/504 [==============================] - 0s 116us/step - loss: 59.3476 - val_loss: 79.2651\n",
      "Epoch 42/50\n",
      "504/504 [==============================] - 0s 111us/step - loss: 59.3355 - val_loss: 69.6113\n",
      "Epoch 43/50\n",
      "504/504 [==============================] - 0s 119us/step - loss: 62.9458 - val_loss: 93.9398\n",
      "Epoch 44/50\n",
      "504/504 [==============================] - 0s 118us/step - loss: 59.8888 - val_loss: 68.6953\n",
      "Epoch 45/50\n",
      "504/504 [==============================] - 0s 117us/step - loss: 59.9025 - val_loss: 69.9761\n",
      "Epoch 46/50\n",
      "504/504 [==============================] - 0s 123us/step - loss: 61.7673 - val_loss: 82.7176\n",
      "Epoch 47/50\n",
      "504/504 [==============================] - 0s 112us/step - loss: 54.9366 - val_loss: 73.6807\n",
      "Epoch 48/50\n",
      "504/504 [==============================] - 0s 143us/step - loss: 55.6957 - val_loss: 65.5515\n",
      "Epoch 49/50\n",
      "504/504 [==============================] - 0s 123us/step - loss: 54.2203 - val_loss: 65.7468\n",
      "Epoch 50/50\n",
      "504/504 [==============================] - 0s 115us/step - loss: 53.7960 - val_loss: 66.2899\n"
     ]
    },
    {
     "data": {
      "text/plain": [
       "<keras.callbacks.History at 0x7fba4ee3e590>"
      ]
     },
     "execution_count": 17,
     "metadata": {},
     "output_type": "execute_result"
    }
   ],
   "source": [
    "model.fit(X_train, y_train , validation_split = 0.3 , epochs = 50 , verbose = 1)"
   ]
  },
  {
   "cell_type": "markdown",
   "id": "669e6dc6-4e0d-43e0-801a-ba23937722cb",
   "metadata": {},
   "source": [
    "let's evaluate the model on test data"
   ]
  },
  {
   "cell_type": "code",
   "execution_count": 18,
   "id": "97e98267-23e6-4c4f-a00e-d62afd012e07",
   "metadata": {},
   "outputs": [
    {
     "name": "stdout",
     "output_type": "stream",
     "text": [
      "309/309 [==============================] - 0s 59us/step\n"
     ]
    },
    {
     "data": {
      "text/plain": [
       "67.44150881474071"
      ]
     },
     "execution_count": 18,
     "metadata": {},
     "output_type": "execute_result"
    }
   ],
   "source": [
    "loss_val = model.evaluate(X_test, y_test)\n",
    "y_pred = model.predict(X_test)\n",
    "loss_val"
   ]
  },
  {
   "cell_type": "markdown",
   "id": "9cc1bb57-e4f9-4462-845d-9d5feca0faba",
   "metadata": {},
   "source": [
    "Now we need to compute the mean squared error between the predicted concrete strength and the actual concrete strength.\n",
    "\n",
    "Let's import the mean_squared_error function from Scikit-learn."
   ]
  },
  {
   "cell_type": "code",
   "execution_count": 19,
   "id": "f98ab9c0-addc-4337-b65b-0c9a93db38d5",
   "metadata": {},
   "outputs": [],
   "source": [
    "from sklearn.metrics import mean_squared_error"
   ]
  },
  {
   "cell_type": "code",
   "execution_count": 20,
   "id": "bd2decf3-88ce-49d1-9189-1d44197bb1a0",
   "metadata": {},
   "outputs": [
    {
     "data": {
      "text/plain": [
       "67.44150911832985"
      ]
     },
     "execution_count": 20,
     "metadata": {},
     "output_type": "execute_result"
    }
   ],
   "source": [
    "mean_square_error = mean_squared_error(y_test, y_pred)\n",
    "mean = np.mean(mean_square_error)\n",
    "mean"
   ]
  },
  {
   "cell_type": "code",
   "execution_count": 21,
   "id": "98b7188d-d594-4e51-9187-3e19ec6c48d9",
   "metadata": {},
   "outputs": [
    {
     "data": {
      "text/plain": [
       "0.0"
      ]
     },
     "execution_count": 21,
     "metadata": {},
     "output_type": "execute_result"
    }
   ],
   "source": [
    "stdv = np.std(mean_square_error)\n",
    "stdv"
   ]
  },
  {
   "cell_type": "markdown",
   "id": "931cfe3d-2025-45a3-b93f-487407ad2810",
   "metadata": {},
   "source": [
    "Create a list of 50 mean squared errors and report mean and the standard deviation of the mean squared errors."
   ]
  },
  {
   "cell_type": "code",
   "execution_count": 22,
   "id": "654d1b4e-ceb7-46d1-b0e3-0ce8ad251e43",
   "metadata": {},
   "outputs": [
    {
     "name": "stdout",
     "output_type": "stream",
     "text": [
      "MSE: 1: 48.59484852170481\n",
      "MSE: 2: 48.061663704782625\n",
      "MSE: 3: 43.87631865689669\n",
      "MSE: 4: 40.18511811043452\n",
      "MSE: 5: 38.16816412669555\n",
      "MSE: 6: 48.416976941056234\n",
      "MSE: 7: 42.635006703990946\n",
      "MSE: 8: 32.508661504702275\n",
      "MSE: 9: 37.18702358258195\n",
      "MSE: 10: 32.8288680017959\n",
      "MSE: 11: 36.42690463513618\n",
      "MSE: 12: 28.471021263344774\n",
      "MSE: 13: 30.483959506630512\n",
      "MSE: 14: 42.98143004136564\n",
      "MSE: 15: 28.332520870714898\n",
      "MSE: 16: 20.379680442192793\n",
      "MSE: 17: 21.585255983963755\n",
      "MSE: 18: 27.524729898446587\n",
      "MSE: 19: 29.86912148978718\n",
      "MSE: 20: 40.864049312752044\n",
      "MSE: 21: 22.1994593845602\n",
      "MSE: 22: 26.88349117044492\n",
      "MSE: 23: 23.802374509545977\n",
      "MSE: 24: 23.600853836652146\n",
      "MSE: 25: 30.248714261842004\n",
      "MSE: 26: 27.99966768925244\n",
      "MSE: 27: 28.9880002216228\n",
      "MSE: 28: 19.772715509902312\n",
      "MSE: 29: 25.024566884951298\n",
      "MSE: 30: 19.664549318332117\n",
      "MSE: 31: 19.16741040300783\n",
      "MSE: 32: 22.111818116073856\n",
      "MSE: 33: 18.055324511234815\n",
      "MSE: 34: 22.496139526367188\n",
      "MSE: 35: 20.07541566373461\n",
      "MSE: 36: 22.098898998741966\n",
      "MSE: 37: 18.164123232696433\n",
      "MSE: 38: 19.266507219728144\n",
      "MSE: 39: 17.315605558623773\n",
      "MSE: 40: 20.168441476173772\n",
      "MSE: 41: 17.663344361635474\n",
      "MSE: 42: 16.887307475685688\n",
      "MSE: 43: 28.286228204622237\n",
      "MSE: 44: 24.278972613387122\n",
      "MSE: 45: 18.727736414443328\n",
      "MSE: 46: 16.370234455491346\n",
      "MSE: 47: 15.529737589814516\n",
      "MSE: 48: 15.216722420504178\n",
      "MSE: 49: 17.348736130303934\n",
      "MSE: 50: 16.120660664580015\n"
     ]
    }
   ],
   "source": [
    "\n",
    "mean_squared_errors = list()\n",
    "total_mean_square_errors = 50 \n",
    "epochs = 50\n",
    "for i in range(0, total_mean_square_errors):\n",
    "    X_train, X_test , y_train , y_test = train_test_split(predictors, target, random_state = i, test_size = 0.3) \n",
    "    model.fit(X_train, y_train , validation_split = 0.3 , epochs = epochs , verbose = 0)\n",
    "    MSE = model.evaluate(X_test, y_test, verbose = 0)\n",
    "    print(\"MSE: \"+str(i+1)+\": \"+str(MSE))\n",
    "    y_pred = model.predict(X_test)\n",
    "    mean_square_error = mean_squared_error(y_test, y_pred)\n",
    "    mean_squared_errors.append(mean_square_error)\n",
    "\n",
    "mean_squared_errors = np.array(mean_squared_errors)\n",
    "mean = np.mean(mean_squared_errors)\n",
    "standard_deviation = np.std(mean_squared_errors)"
   ]
  },
  {
   "cell_type": "code",
   "execution_count": 23,
   "id": "5645aae7-ba07-498d-ae6f-9614c21de4b0",
   "metadata": {},
   "outputs": [
    {
     "name": "stdout",
     "output_type": "stream",
     "text": [
      "\n",
      "\n",
      "Below is the mean and standard deviation of 50 mean squared errors without normalized data. Total number of epochs for each training is: 50\n",
      "\n",
      "Mean: 27.058302765041393\n",
      "Standard Deviation: 9.556750529642171\n"
     ]
    }
   ],
   "source": [
    "print('\\n')\n",
    "print(\"Below is the mean and standard deviation of \" +str(total_mean_square_errors) + \" mean squared errors without normalized data. Total number of epochs for each training is: \" +str(epochs) + \"\\n\")\n",
    "print(\"Mean: \"+str(mean))\n",
    "print(\"Standard Deviation: \"+str(standard_deviation))"
   ]
  }
 ],
 "metadata": {
  "kernelspec": {
   "display_name": "Python",
   "language": "python",
   "name": "conda-env-python-py"
  },
  "language_info": {
   "codemirror_mode": {
    "name": "ipython",
    "version": 3
   },
   "file_extension": ".py",
   "mimetype": "text/x-python",
   "name": "python",
   "nbconvert_exporter": "python",
   "pygments_lexer": "ipython3",
   "version": "3.7.12"
  }
 },
 "nbformat": 4,
 "nbformat_minor": 5
}
