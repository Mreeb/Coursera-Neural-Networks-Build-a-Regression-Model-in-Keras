{
 "cells": [
  {
   "cell_type": "markdown",
   "id": "bb9844f8-4776-4b81-82cb-e97593b17df2",
   "metadata": {},
   "source": [
    "<h2>Regression Model with Keras</h2>\n",
    "<h3>Final peer graded Assignment</h3>\n"
   ]
  },
  {
   "cell_type": "code",
   "execution_count": 1,
   "id": "e6b39dd4-6857-4dc7-8ecd-a4adc288d2f5",
   "metadata": {},
   "outputs": [],
   "source": [
    "import pandas as pd \n",
    "import numpy as np"
   ]
  },
  {
   "cell_type": "markdown",
   "id": "da82a937-7aa0-4627-bd18-cf6a32ae8666",
   "metadata": {},
   "source": [
    "I will be using the same dataset provided in the Assignment.\n",
    "\n",
    "<strong>The dataset is about the compressive strength of different samples of concrete based on the volumes of the different ingredients that were used to make them. Ingredients include:</strong>\n",
    "\n",
    "<strong>1. Cement</strong>\n",
    "\n",
    "<strong>2. Blast Furnace Slag</strong>\n",
    "\n",
    "<strong>3. Fly Ash</strong>\n",
    "\n",
    "<strong>4. Water</strong>\n",
    "\n",
    "<strong>5. Superplasticizer</strong>\n",
    "\n",
    "<strong>6. Coarse Aggregate</strong>\n",
    "\n",
    "<strong>7. Fine Aggregate</strong>\n"
   ]
  },
  {
   "cell_type": "code",
   "execution_count": 2,
   "id": "b68f8ad0-017b-4313-a01b-d58690c00828",
   "metadata": {},
   "outputs": [
    {
     "data": {
      "text/html": [
       "<div>\n",
       "<style scoped>\n",
       "    .dataframe tbody tr th:only-of-type {\n",
       "        vertical-align: middle;\n",
       "    }\n",
       "\n",
       "    .dataframe tbody tr th {\n",
       "        vertical-align: top;\n",
       "    }\n",
       "\n",
       "    .dataframe thead th {\n",
       "        text-align: right;\n",
       "    }\n",
       "</style>\n",
       "<table border=\"1\" class=\"dataframe\">\n",
       "  <thead>\n",
       "    <tr style=\"text-align: right;\">\n",
       "      <th></th>\n",
       "      <th>Cement</th>\n",
       "      <th>Blast Furnace Slag</th>\n",
       "      <th>Fly Ash</th>\n",
       "      <th>Water</th>\n",
       "      <th>Superplasticizer</th>\n",
       "      <th>Coarse Aggregate</th>\n",
       "      <th>Fine Aggregate</th>\n",
       "      <th>Age</th>\n",
       "      <th>Strength</th>\n",
       "    </tr>\n",
       "  </thead>\n",
       "  <tbody>\n",
       "    <tr>\n",
       "      <th>0</th>\n",
       "      <td>540.0</td>\n",
       "      <td>0.0</td>\n",
       "      <td>0.0</td>\n",
       "      <td>162.0</td>\n",
       "      <td>2.5</td>\n",
       "      <td>1040.0</td>\n",
       "      <td>676.0</td>\n",
       "      <td>28</td>\n",
       "      <td>79.99</td>\n",
       "    </tr>\n",
       "    <tr>\n",
       "      <th>1</th>\n",
       "      <td>540.0</td>\n",
       "      <td>0.0</td>\n",
       "      <td>0.0</td>\n",
       "      <td>162.0</td>\n",
       "      <td>2.5</td>\n",
       "      <td>1055.0</td>\n",
       "      <td>676.0</td>\n",
       "      <td>28</td>\n",
       "      <td>61.89</td>\n",
       "    </tr>\n",
       "    <tr>\n",
       "      <th>2</th>\n",
       "      <td>332.5</td>\n",
       "      <td>142.5</td>\n",
       "      <td>0.0</td>\n",
       "      <td>228.0</td>\n",
       "      <td>0.0</td>\n",
       "      <td>932.0</td>\n",
       "      <td>594.0</td>\n",
       "      <td>270</td>\n",
       "      <td>40.27</td>\n",
       "    </tr>\n",
       "  </tbody>\n",
       "</table>\n",
       "</div>"
      ],
      "text/plain": [
       "   Cement  Blast Furnace Slag  Fly Ash  Water  Superplasticizer  \\\n",
       "0   540.0                 0.0      0.0  162.0               2.5   \n",
       "1   540.0                 0.0      0.0  162.0               2.5   \n",
       "2   332.5               142.5      0.0  228.0               0.0   \n",
       "\n",
       "   Coarse Aggregate  Fine Aggregate  Age  Strength  \n",
       "0            1040.0           676.0   28     79.99  \n",
       "1            1055.0           676.0   28     61.89  \n",
       "2             932.0           594.0  270     40.27  "
      ]
     },
     "execution_count": 2,
     "metadata": {},
     "output_type": "execute_result"
    }
   ],
   "source": [
    "concrete_data = pd.read_csv('concrete_data.csv')\n",
    "concrete_data.head(3)"
   ]
  },
  {
   "cell_type": "markdown",
   "id": "1a680f5a-469c-466c-bd24-162d3eb4b2f4",
   "metadata": {},
   "source": [
    "#### Let's check how many data points we have.\n"
   ]
  },
  {
   "cell_type": "code",
   "execution_count": 3,
   "id": "6a6d7a74-f955-4c33-919f-7e719e6ffe80",
   "metadata": {},
   "outputs": [
    {
     "data": {
      "text/plain": [
       "(1030, 9)"
      ]
     },
     "execution_count": 3,
     "metadata": {},
     "output_type": "execute_result"
    }
   ],
   "source": [
    "concrete_data.shape"
   ]
  },
  {
   "cell_type": "markdown",
   "id": "d27316d1-6bb1-4115-9189-25d2ccb0a0aa",
   "metadata": {},
   "source": [
    "let's see if we have any missing values"
   ]
  },
  {
   "cell_type": "code",
   "execution_count": 4,
   "id": "f0e72059-f8da-4fe1-9494-2ed1df4ab554",
   "metadata": {},
   "outputs": [
    {
     "data": {
      "text/html": [
       "<div>\n",
       "<style scoped>\n",
       "    .dataframe tbody tr th:only-of-type {\n",
       "        vertical-align: middle;\n",
       "    }\n",
       "\n",
       "    .dataframe tbody tr th {\n",
       "        vertical-align: top;\n",
       "    }\n",
       "\n",
       "    .dataframe thead th {\n",
       "        text-align: right;\n",
       "    }\n",
       "</style>\n",
       "<table border=\"1\" class=\"dataframe\">\n",
       "  <thead>\n",
       "    <tr style=\"text-align: right;\">\n",
       "      <th></th>\n",
       "      <th>Cement</th>\n",
       "      <th>Blast Furnace Slag</th>\n",
       "      <th>Fly Ash</th>\n",
       "      <th>Water</th>\n",
       "      <th>Superplasticizer</th>\n",
       "      <th>Coarse Aggregate</th>\n",
       "      <th>Fine Aggregate</th>\n",
       "      <th>Age</th>\n",
       "      <th>Strength</th>\n",
       "    </tr>\n",
       "  </thead>\n",
       "  <tbody>\n",
       "    <tr>\n",
       "      <th>count</th>\n",
       "      <td>1030.000000</td>\n",
       "      <td>1030.000000</td>\n",
       "      <td>1030.000000</td>\n",
       "      <td>1030.000000</td>\n",
       "      <td>1030.000000</td>\n",
       "      <td>1030.000000</td>\n",
       "      <td>1030.000000</td>\n",
       "      <td>1030.000000</td>\n",
       "      <td>1030.000000</td>\n",
       "    </tr>\n",
       "    <tr>\n",
       "      <th>mean</th>\n",
       "      <td>281.167864</td>\n",
       "      <td>73.895825</td>\n",
       "      <td>54.188350</td>\n",
       "      <td>181.567282</td>\n",
       "      <td>6.204660</td>\n",
       "      <td>972.918932</td>\n",
       "      <td>773.580485</td>\n",
       "      <td>45.662136</td>\n",
       "      <td>35.817961</td>\n",
       "    </tr>\n",
       "    <tr>\n",
       "      <th>std</th>\n",
       "      <td>104.506364</td>\n",
       "      <td>86.279342</td>\n",
       "      <td>63.997004</td>\n",
       "      <td>21.354219</td>\n",
       "      <td>5.973841</td>\n",
       "      <td>77.753954</td>\n",
       "      <td>80.175980</td>\n",
       "      <td>63.169912</td>\n",
       "      <td>16.705742</td>\n",
       "    </tr>\n",
       "    <tr>\n",
       "      <th>min</th>\n",
       "      <td>102.000000</td>\n",
       "      <td>0.000000</td>\n",
       "      <td>0.000000</td>\n",
       "      <td>121.800000</td>\n",
       "      <td>0.000000</td>\n",
       "      <td>801.000000</td>\n",
       "      <td>594.000000</td>\n",
       "      <td>1.000000</td>\n",
       "      <td>2.330000</td>\n",
       "    </tr>\n",
       "    <tr>\n",
       "      <th>25%</th>\n",
       "      <td>192.375000</td>\n",
       "      <td>0.000000</td>\n",
       "      <td>0.000000</td>\n",
       "      <td>164.900000</td>\n",
       "      <td>0.000000</td>\n",
       "      <td>932.000000</td>\n",
       "      <td>730.950000</td>\n",
       "      <td>7.000000</td>\n",
       "      <td>23.710000</td>\n",
       "    </tr>\n",
       "    <tr>\n",
       "      <th>50%</th>\n",
       "      <td>272.900000</td>\n",
       "      <td>22.000000</td>\n",
       "      <td>0.000000</td>\n",
       "      <td>185.000000</td>\n",
       "      <td>6.400000</td>\n",
       "      <td>968.000000</td>\n",
       "      <td>779.500000</td>\n",
       "      <td>28.000000</td>\n",
       "      <td>34.445000</td>\n",
       "    </tr>\n",
       "    <tr>\n",
       "      <th>75%</th>\n",
       "      <td>350.000000</td>\n",
       "      <td>142.950000</td>\n",
       "      <td>118.300000</td>\n",
       "      <td>192.000000</td>\n",
       "      <td>10.200000</td>\n",
       "      <td>1029.400000</td>\n",
       "      <td>824.000000</td>\n",
       "      <td>56.000000</td>\n",
       "      <td>46.135000</td>\n",
       "    </tr>\n",
       "    <tr>\n",
       "      <th>max</th>\n",
       "      <td>540.000000</td>\n",
       "      <td>359.400000</td>\n",
       "      <td>200.100000</td>\n",
       "      <td>247.000000</td>\n",
       "      <td>32.200000</td>\n",
       "      <td>1145.000000</td>\n",
       "      <td>992.600000</td>\n",
       "      <td>365.000000</td>\n",
       "      <td>82.600000</td>\n",
       "    </tr>\n",
       "  </tbody>\n",
       "</table>\n",
       "</div>"
      ],
      "text/plain": [
       "            Cement  Blast Furnace Slag      Fly Ash        Water  \\\n",
       "count  1030.000000         1030.000000  1030.000000  1030.000000   \n",
       "mean    281.167864           73.895825    54.188350   181.567282   \n",
       "std     104.506364           86.279342    63.997004    21.354219   \n",
       "min     102.000000            0.000000     0.000000   121.800000   \n",
       "25%     192.375000            0.000000     0.000000   164.900000   \n",
       "50%     272.900000           22.000000     0.000000   185.000000   \n",
       "75%     350.000000          142.950000   118.300000   192.000000   \n",
       "max     540.000000          359.400000   200.100000   247.000000   \n",
       "\n",
       "       Superplasticizer  Coarse Aggregate  Fine Aggregate          Age  \\\n",
       "count       1030.000000       1030.000000     1030.000000  1030.000000   \n",
       "mean           6.204660        972.918932      773.580485    45.662136   \n",
       "std            5.973841         77.753954       80.175980    63.169912   \n",
       "min            0.000000        801.000000      594.000000     1.000000   \n",
       "25%            0.000000        932.000000      730.950000     7.000000   \n",
       "50%            6.400000        968.000000      779.500000    28.000000   \n",
       "75%           10.200000       1029.400000      824.000000    56.000000   \n",
       "max           32.200000       1145.000000      992.600000   365.000000   \n",
       "\n",
       "          Strength  \n",
       "count  1030.000000  \n",
       "mean     35.817961  \n",
       "std      16.705742  \n",
       "min       2.330000  \n",
       "25%      23.710000  \n",
       "50%      34.445000  \n",
       "75%      46.135000  \n",
       "max      82.600000  "
      ]
     },
     "execution_count": 4,
     "metadata": {},
     "output_type": "execute_result"
    }
   ],
   "source": [
    "concrete_data.describe()"
   ]
  },
  {
   "cell_type": "code",
   "execution_count": 5,
   "id": "a351e256-5a80-4bf2-8586-058e846b17d1",
   "metadata": {},
   "outputs": [
    {
     "data": {
      "text/plain": [
       "Cement                0\n",
       "Blast Furnace Slag    0\n",
       "Fly Ash               0\n",
       "Water                 0\n",
       "Superplasticizer      0\n",
       "Coarse Aggregate      0\n",
       "Fine Aggregate        0\n",
       "Age                   0\n",
       "Strength              0\n",
       "dtype: int64"
      ]
     },
     "execution_count": 5,
     "metadata": {},
     "output_type": "execute_result"
    }
   ],
   "source": [
    "concrete_data.isnull().sum()"
   ]
  },
  {
   "cell_type": "markdown",
   "id": "1d6f8f28-6226-43d7-9e10-25cbbc4eee27",
   "metadata": {},
   "source": [
    "The data is Clean so lets bulid our model"
   ]
  },
  {
   "cell_type": "code",
   "execution_count": 6,
   "id": "79c589de-ef66-4aaa-80ad-460da5c45eca",
   "metadata": {},
   "outputs": [
    {
     "data": {
      "text/plain": [
       "Index(['Cement', 'Blast Furnace Slag', 'Fly Ash', 'Water', 'Superplasticizer',\n",
       "       'Coarse Aggregate', 'Fine Aggregate', 'Age', 'Strength'],\n",
       "      dtype='object')"
      ]
     },
     "execution_count": 6,
     "metadata": {},
     "output_type": "execute_result"
    }
   ],
   "source": [
    "concrete_data_cols = concrete_data.columns\n",
    "concrete_data_cols"
   ]
  },
  {
   "cell_type": "code",
   "execution_count": 7,
   "id": "add14ca9-01bf-43b4-a9a2-9b88b692de69",
   "metadata": {},
   "outputs": [],
   "source": [
    "predictors = concrete_data[concrete_data_cols[concrete_data_cols != 'Strength']]  #ALL COLUMNS EXCEPT THE STENGTH COLUMN\n",
    "target = concrete_data['Strength'] # THE STRENGTH COLUMN"
   ]
  },
  {
   "cell_type": "code",
   "execution_count": 8,
   "id": "c18f63fe-4ad8-4e57-9850-1e6fec7c88d4",
   "metadata": {},
   "outputs": [
    {
     "data": {
      "text/html": [
       "<div>\n",
       "<style scoped>\n",
       "    .dataframe tbody tr th:only-of-type {\n",
       "        vertical-align: middle;\n",
       "    }\n",
       "\n",
       "    .dataframe tbody tr th {\n",
       "        vertical-align: top;\n",
       "    }\n",
       "\n",
       "    .dataframe thead th {\n",
       "        text-align: right;\n",
       "    }\n",
       "</style>\n",
       "<table border=\"1\" class=\"dataframe\">\n",
       "  <thead>\n",
       "    <tr style=\"text-align: right;\">\n",
       "      <th></th>\n",
       "      <th>Cement</th>\n",
       "      <th>Blast Furnace Slag</th>\n",
       "      <th>Fly Ash</th>\n",
       "      <th>Water</th>\n",
       "      <th>Superplasticizer</th>\n",
       "      <th>Coarse Aggregate</th>\n",
       "      <th>Fine Aggregate</th>\n",
       "      <th>Age</th>\n",
       "    </tr>\n",
       "  </thead>\n",
       "  <tbody>\n",
       "    <tr>\n",
       "      <th>0</th>\n",
       "      <td>540.0</td>\n",
       "      <td>0.0</td>\n",
       "      <td>0.0</td>\n",
       "      <td>162.0</td>\n",
       "      <td>2.5</td>\n",
       "      <td>1040.0</td>\n",
       "      <td>676.0</td>\n",
       "      <td>28</td>\n",
       "    </tr>\n",
       "    <tr>\n",
       "      <th>1</th>\n",
       "      <td>540.0</td>\n",
       "      <td>0.0</td>\n",
       "      <td>0.0</td>\n",
       "      <td>162.0</td>\n",
       "      <td>2.5</td>\n",
       "      <td>1055.0</td>\n",
       "      <td>676.0</td>\n",
       "      <td>28</td>\n",
       "    </tr>\n",
       "    <tr>\n",
       "      <th>2</th>\n",
       "      <td>332.5</td>\n",
       "      <td>142.5</td>\n",
       "      <td>0.0</td>\n",
       "      <td>228.0</td>\n",
       "      <td>0.0</td>\n",
       "      <td>932.0</td>\n",
       "      <td>594.0</td>\n",
       "      <td>270</td>\n",
       "    </tr>\n",
       "  </tbody>\n",
       "</table>\n",
       "</div>"
      ],
      "text/plain": [
       "   Cement  Blast Furnace Slag  Fly Ash  Water  Superplasticizer  \\\n",
       "0   540.0                 0.0      0.0  162.0               2.5   \n",
       "1   540.0                 0.0      0.0  162.0               2.5   \n",
       "2   332.5               142.5      0.0  228.0               0.0   \n",
       "\n",
       "   Coarse Aggregate  Fine Aggregate  Age  \n",
       "0            1040.0           676.0   28  \n",
       "1            1055.0           676.0   28  \n",
       "2             932.0           594.0  270  "
      ]
     },
     "execution_count": 8,
     "metadata": {},
     "output_type": "execute_result"
    }
   ],
   "source": [
    "predictors.head(3)"
   ]
  },
  {
   "cell_type": "code",
   "execution_count": 9,
   "id": "46ffc618-56b7-44bd-8905-df88a69a3c10",
   "metadata": {},
   "outputs": [
    {
     "data": {
      "text/plain": [
       "0    79.99\n",
       "1    61.89\n",
       "2    40.27\n",
       "Name: Strength, dtype: float64"
      ]
     },
     "execution_count": 9,
     "metadata": {},
     "output_type": "execute_result"
    }
   ],
   "source": [
    "target.head(3)"
   ]
  },
  {
   "cell_type": "markdown",
   "id": "6bce7bd6-2f56-495e-8f8a-d6789b23a14a",
   "metadata": {},
   "source": [
    "Lets see the No of cols predictors have"
   ]
  },
  {
   "cell_type": "code",
   "execution_count": 10,
   "id": "574500a6-f318-4a1f-8896-1543ea5636d5",
   "metadata": {},
   "outputs": [
    {
     "data": {
      "text/plain": [
       "8"
      ]
     },
     "execution_count": 10,
     "metadata": {},
     "output_type": "execute_result"
    }
   ],
   "source": [
    "n_cols = predictors.shape[1]\n",
    "n_cols"
   ]
  },
  {
   "cell_type": "markdown",
   "id": "f515ae6d-aaa2-4b7e-a068-db221f25dc2e",
   "metadata": {},
   "source": [
    "Lets import the Keras library and other packages from Keras library"
   ]
  },
  {
   "cell_type": "code",
   "execution_count": 11,
   "id": "6259cb47-e140-4e4d-b844-01af39dad8aa",
   "metadata": {},
   "outputs": [
    {
     "name": "stderr",
     "output_type": "stream",
     "text": [
      "Using TensorFlow backend.\n",
      "/home/jupyterlab/conda/envs/python/lib/python3.7/site-packages/tensorflow/python/framework/dtypes.py:516: FutureWarning: Passing (type, 1) or '1type' as a synonym of type is deprecated; in a future version of numpy, it will be understood as (type, (1,)) / '(1,)type'.\n",
      "  _np_qint8 = np.dtype([(\"qint8\", np.int8, 1)])\n",
      "/home/jupyterlab/conda/envs/python/lib/python3.7/site-packages/tensorflow/python/framework/dtypes.py:517: FutureWarning: Passing (type, 1) or '1type' as a synonym of type is deprecated; in a future version of numpy, it will be understood as (type, (1,)) / '(1,)type'.\n",
      "  _np_quint8 = np.dtype([(\"quint8\", np.uint8, 1)])\n",
      "/home/jupyterlab/conda/envs/python/lib/python3.7/site-packages/tensorflow/python/framework/dtypes.py:518: FutureWarning: Passing (type, 1) or '1type' as a synonym of type is deprecated; in a future version of numpy, it will be understood as (type, (1,)) / '(1,)type'.\n",
      "  _np_qint16 = np.dtype([(\"qint16\", np.int16, 1)])\n",
      "/home/jupyterlab/conda/envs/python/lib/python3.7/site-packages/tensorflow/python/framework/dtypes.py:519: FutureWarning: Passing (type, 1) or '1type' as a synonym of type is deprecated; in a future version of numpy, it will be understood as (type, (1,)) / '(1,)type'.\n",
      "  _np_quint16 = np.dtype([(\"quint16\", np.uint16, 1)])\n",
      "/home/jupyterlab/conda/envs/python/lib/python3.7/site-packages/tensorflow/python/framework/dtypes.py:520: FutureWarning: Passing (type, 1) or '1type' as a synonym of type is deprecated; in a future version of numpy, it will be understood as (type, (1,)) / '(1,)type'.\n",
      "  _np_qint32 = np.dtype([(\"qint32\", np.int32, 1)])\n",
      "/home/jupyterlab/conda/envs/python/lib/python3.7/site-packages/tensorflow/python/framework/dtypes.py:525: FutureWarning: Passing (type, 1) or '1type' as a synonym of type is deprecated; in a future version of numpy, it will be understood as (type, (1,)) / '(1,)type'.\n",
      "  np_resource = np.dtype([(\"resource\", np.ubyte, 1)])\n",
      "/home/jupyterlab/conda/envs/python/lib/python3.7/site-packages/tensorboard/compat/tensorflow_stub/dtypes.py:541: FutureWarning: Passing (type, 1) or '1type' as a synonym of type is deprecated; in a future version of numpy, it will be understood as (type, (1,)) / '(1,)type'.\n",
      "  _np_qint8 = np.dtype([(\"qint8\", np.int8, 1)])\n",
      "/home/jupyterlab/conda/envs/python/lib/python3.7/site-packages/tensorboard/compat/tensorflow_stub/dtypes.py:542: FutureWarning: Passing (type, 1) or '1type' as a synonym of type is deprecated; in a future version of numpy, it will be understood as (type, (1,)) / '(1,)type'.\n",
      "  _np_quint8 = np.dtype([(\"quint8\", np.uint8, 1)])\n",
      "/home/jupyterlab/conda/envs/python/lib/python3.7/site-packages/tensorboard/compat/tensorflow_stub/dtypes.py:543: FutureWarning: Passing (type, 1) or '1type' as a synonym of type is deprecated; in a future version of numpy, it will be understood as (type, (1,)) / '(1,)type'.\n",
      "  _np_qint16 = np.dtype([(\"qint16\", np.int16, 1)])\n",
      "/home/jupyterlab/conda/envs/python/lib/python3.7/site-packages/tensorboard/compat/tensorflow_stub/dtypes.py:544: FutureWarning: Passing (type, 1) or '1type' as a synonym of type is deprecated; in a future version of numpy, it will be understood as (type, (1,)) / '(1,)type'.\n",
      "  _np_quint16 = np.dtype([(\"quint16\", np.uint16, 1)])\n",
      "/home/jupyterlab/conda/envs/python/lib/python3.7/site-packages/tensorboard/compat/tensorflow_stub/dtypes.py:545: FutureWarning: Passing (type, 1) or '1type' as a synonym of type is deprecated; in a future version of numpy, it will be understood as (type, (1,)) / '(1,)type'.\n",
      "  _np_qint32 = np.dtype([(\"qint32\", np.int32, 1)])\n",
      "/home/jupyterlab/conda/envs/python/lib/python3.7/site-packages/tensorboard/compat/tensorflow_stub/dtypes.py:550: FutureWarning: Passing (type, 1) or '1type' as a synonym of type is deprecated; in a future version of numpy, it will be understood as (type, (1,)) / '(1,)type'.\n",
      "  np_resource = np.dtype([(\"resource\", np.ubyte, 1)])\n"
     ]
    }
   ],
   "source": [
    "import keras\n",
    "from keras.models import Sequential\n",
    "from keras.layers import Dense"
   ]
  },
  {
   "cell_type": "markdown",
   "id": "27e8c615-4ffe-4a92-b32f-50db24ac9b8e",
   "metadata": {},
   "source": [
    "Now Lets bulild the neural network"
   ]
  },
  {
   "cell_type": "code",
   "execution_count": 12,
   "id": "e75f3957-9a4f-46b7-adbe-0271bf45b186",
   "metadata": {},
   "outputs": [],
   "source": [
    "def regression_model():\n",
    "    model = Sequential()\n",
    "    model.add(Dense(50,activation = 'relu', input_shape = (n_cols,)))\n",
    "    model.add(Dense(50 , activation = 'relu'))\n",
    "    model.add(Dense(1))\n",
    "    \n",
    "    model.compile(optimizer = 'adam', loss = 'mean_squared_error')\n",
    "    return model"
   ]
  },
  {
   "cell_type": "markdown",
   "id": "7f231d0f-d312-4e0b-b5ee-7faf05492202",
   "metadata": {},
   "source": [
    "The above function create a model that has two hidden layers, each of 50 hidden units."
   ]
  },
  {
   "cell_type": "markdown",
   "id": "03d5f963-c826-4dbe-bbae-96cddcc21266",
   "metadata": {},
   "source": [
    "## Train and Test Split from Sklearn\n"
   ]
  },
  {
   "cell_type": "code",
   "execution_count": 13,
   "id": "d40ec778-5f56-4bb9-8db7-a14209cc5b02",
   "metadata": {},
   "outputs": [
    {
     "name": "stderr",
     "output_type": "stream",
     "text": [
      "/home/jupyterlab/conda/envs/python/lib/python3.7/site-packages/sklearn/utils/validation.py:37: DeprecationWarning: distutils Version classes are deprecated. Use packaging.version instead.\n",
      "  LARGE_SPARSE_SUPPORTED = LooseVersion(scipy_version) >= '0.14.0'\n"
     ]
    }
   ],
   "source": [
    "from sklearn.model_selection import train_test_split"
   ]
  },
  {
   "cell_type": "markdown",
   "id": "d479480e-ed07-45fb-99eb-6a1a56f0050c",
   "metadata": {},
   "source": [
    "Splitting the data into a training and test sets by holding 30% of the data for testing\n",
    "\n"
   ]
  },
  {
   "cell_type": "code",
   "execution_count": 14,
   "id": "6f45ca1f-543d-48dd-a931-6b87f6a67d91",
   "metadata": {},
   "outputs": [],
   "source": [
    "X_train, X_test , y_train , y_test = train_test_split(predictors, target, random_state = 4, test_size = 0.3) "
   ]
  },
  {
   "cell_type": "markdown",
   "id": "fda3ee3a-ba1d-48ae-881c-14e92dc40403",
   "metadata": {},
   "source": [
    "Let's call the function now to create our model.\n"
   ]
  },
  {
   "cell_type": "code",
   "execution_count": 15,
   "id": "4091770d-047b-4073-bc00-b9ee6421c7c5",
   "metadata": {},
   "outputs": [
    {
     "name": "stdout",
     "output_type": "stream",
     "text": [
      "WARNING:tensorflow:From /home/jupyterlab/conda/envs/python/lib/python3.7/site-packages/keras/backend/tensorflow_backend.py:68: The name tf.get_default_graph is deprecated. Please use tf.compat.v1.get_default_graph instead.\n",
      "\n",
      "WARNING:tensorflow:From /home/jupyterlab/conda/envs/python/lib/python3.7/site-packages/keras/backend/tensorflow_backend.py:508: The name tf.placeholder is deprecated. Please use tf.compat.v1.placeholder instead.\n",
      "\n",
      "WARNING:tensorflow:From /home/jupyterlab/conda/envs/python/lib/python3.7/site-packages/keras/backend/tensorflow_backend.py:3837: The name tf.random_uniform is deprecated. Please use tf.random.uniform instead.\n",
      "\n",
      "WARNING:tensorflow:From /home/jupyterlab/conda/envs/python/lib/python3.7/site-packages/keras/optimizers.py:757: The name tf.train.Optimizer is deprecated. Please use tf.compat.v1.train.Optimizer instead.\n",
      "\n"
     ]
    }
   ],
   "source": [
    "model = regression_model()"
   ]
  },
  {
   "cell_type": "markdown",
   "id": "52c9aca8-8979-484e-a102-cc821a2ec333",
   "metadata": {},
   "source": [
    "Next, we will train and test the model at the same time using the *fit* method. We will leave out 30% of the data for validation and we will train the model for 100 epochs.\n"
   ]
  },
  {
   "cell_type": "code",
   "execution_count": 16,
   "id": "3764bccf-db27-41fb-87cb-a700ea359843",
   "metadata": {},
   "outputs": [
    {
     "name": "stdout",
     "output_type": "stream",
     "text": [
      "WARNING:tensorflow:From /home/jupyterlab/conda/envs/python/lib/python3.7/site-packages/keras/backend/tensorflow_backend.py:977: The name tf.assign_add is deprecated. Please use tf.compat.v1.assign_add instead.\n",
      "\n",
      "WARNING:tensorflow:From /home/jupyterlab/conda/envs/python/lib/python3.7/site-packages/keras/backend/tensorflow_backend.py:964: The name tf.assign is deprecated. Please use tf.compat.v1.assign instead.\n",
      "\n",
      "Train on 504 samples, validate on 217 samples\n",
      "Epoch 1/50\n"
     ]
    },
    {
     "name": "stderr",
     "output_type": "stream",
     "text": [
      "2022-08-26 13:52:07.344010: I tensorflow/core/platform/cpu_feature_guard.cc:142] Your CPU supports instructions that this TensorFlow binary was not compiled to use: SSE4.1 SSE4.2 AVX AVX2 AVX512F FMA\n",
      "2022-08-26 13:52:07.366430: I tensorflow/core/platform/profile_utils/cpu_utils.cc:94] CPU Frequency: 2593900000 Hz\n",
      "2022-08-26 13:52:07.367304: I tensorflow/compiler/xla/service/service.cc:168] XLA service 0x558e9f32b530 executing computations on platform Host. Devices:\n",
      "2022-08-26 13:52:07.367370: I tensorflow/compiler/xla/service/service.cc:175]   StreamExecutor device (0): <undefined>, <undefined>\n"
     ]
    },
    {
     "name": "stdout",
     "output_type": "stream",
     "text": [
      "504/504 [==============================] - 0s 904us/step - loss: 361.4622 - val_loss: 153.5498\n"
     ]
    },
    {
     "name": "stderr",
     "output_type": "stream",
     "text": [
      "2022-08-26 13:52:07.583695: W tensorflow/compiler/jit/mark_for_compilation_pass.cc:1412] (One-time warning): Not using XLA:CPU for cluster because envvar TF_XLA_FLAGS=--tf_xla_cpu_global_jit was not set.  If you want XLA:CPU, either set that envvar, or use experimental_jit_scope to enable XLA:CPU.  To confirm that XLA is active, pass --vmodule=xla_compilation_cache=1 (as a proper command-line flag, not via TF_XLA_FLAGS) or set the envvar XLA_FLAGS=--xla_hlo_profile.\n"
     ]
    },
    {
     "name": "stdout",
     "output_type": "stream",
     "text": [
      "Epoch 2/50\n",
      "504/504 [==============================] - 0s 124us/step - loss: 147.7429 - val_loss: 133.1379\n",
      "Epoch 3/50\n",
      "504/504 [==============================] - 0s 123us/step - loss: 120.9665 - val_loss: 124.7403\n",
      "Epoch 4/50\n",
      "504/504 [==============================] - 0s 134us/step - loss: 108.8185 - val_loss: 108.9918\n",
      "Epoch 5/50\n",
      "504/504 [==============================] - 0s 206us/step - loss: 99.2494 - val_loss: 99.5577\n",
      "Epoch 6/50\n",
      "504/504 [==============================] - 0s 246us/step - loss: 93.4424 - val_loss: 95.3536\n",
      "Epoch 7/50\n",
      "504/504 [==============================] - 0s 266us/step - loss: 90.4659 - val_loss: 104.7115\n",
      "Epoch 8/50\n",
      "504/504 [==============================] - 0s 212us/step - loss: 81.1818 - val_loss: 90.0952\n",
      "Epoch 9/50\n",
      "504/504 [==============================] - 0s 199us/step - loss: 81.8534 - val_loss: 82.1895\n",
      "Epoch 10/50\n",
      "504/504 [==============================] - 0s 168us/step - loss: 80.1240 - val_loss: 86.4564\n",
      "Epoch 11/50\n",
      "504/504 [==============================] - 0s 146us/step - loss: 84.4040 - val_loss: 78.8247\n",
      "Epoch 12/50\n",
      "504/504 [==============================] - 0s 120us/step - loss: 89.5897 - val_loss: 99.6789\n",
      "Epoch 13/50\n",
      "504/504 [==============================] - 0s 116us/step - loss: 82.3739 - val_loss: 108.6968\n",
      "Epoch 14/50\n",
      "504/504 [==============================] - 0s 117us/step - loss: 76.3564 - val_loss: 87.5858\n",
      "Epoch 15/50\n",
      "504/504 [==============================] - 0s 116us/step - loss: 73.5224 - val_loss: 72.0962\n",
      "Epoch 16/50\n",
      "504/504 [==============================] - 0s 117us/step - loss: 68.4565 - val_loss: 92.8087\n",
      "Epoch 17/50\n",
      "504/504 [==============================] - 0s 122us/step - loss: 65.9735 - val_loss: 73.3213\n",
      "Epoch 18/50\n",
      "504/504 [==============================] - 0s 121us/step - loss: 66.5996 - val_loss: 71.6026\n",
      "Epoch 19/50\n",
      "504/504 [==============================] - 0s 110us/step - loss: 74.6885 - val_loss: 67.1708\n",
      "Epoch 20/50\n",
      "504/504 [==============================] - 0s 92us/step - loss: 64.1492 - val_loss: 66.9124\n",
      "Epoch 21/50\n",
      "504/504 [==============================] - 0s 111us/step - loss: 59.5310 - val_loss: 67.8711\n",
      "Epoch 22/50\n",
      "504/504 [==============================] - 0s 116us/step - loss: 59.4646 - val_loss: 74.7421\n",
      "Epoch 23/50\n",
      "504/504 [==============================] - 0s 116us/step - loss: 58.0022 - val_loss: 66.0185\n",
      "Epoch 24/50\n",
      "504/504 [==============================] - 0s 114us/step - loss: 58.1731 - val_loss: 65.6123\n",
      "Epoch 25/50\n",
      "504/504 [==============================] - 0s 119us/step - loss: 59.1059 - val_loss: 63.8146\n",
      "Epoch 26/50\n",
      "504/504 [==============================] - 0s 113us/step - loss: 59.7599 - val_loss: 64.1359\n",
      "Epoch 27/50\n",
      "504/504 [==============================] - 0s 117us/step - loss: 59.7893 - val_loss: 62.1899\n",
      "Epoch 28/50\n",
      "504/504 [==============================] - 0s 92us/step - loss: 55.7722 - val_loss: 69.8671\n",
      "Epoch 29/50\n",
      "504/504 [==============================] - 0s 113us/step - loss: 54.6201 - val_loss: 62.7904\n",
      "Epoch 30/50\n",
      "504/504 [==============================] - 0s 117us/step - loss: 64.3601 - val_loss: 68.0787\n",
      "Epoch 31/50\n",
      "504/504 [==============================] - 0s 122us/step - loss: 57.6289 - val_loss: 78.1124\n",
      "Epoch 32/50\n",
      "504/504 [==============================] - 0s 110us/step - loss: 62.8512 - val_loss: 61.7742\n",
      "Epoch 33/50\n",
      "504/504 [==============================] - 0s 121us/step - loss: 54.4630 - val_loss: 61.3485\n",
      "Epoch 34/50\n",
      "504/504 [==============================] - 0s 117us/step - loss: 56.7550 - val_loss: 65.9910\n",
      "Epoch 35/50\n",
      "504/504 [==============================] - 0s 118us/step - loss: 67.7045 - val_loss: 72.5670\n",
      "Epoch 36/50\n",
      "504/504 [==============================] - 0s 118us/step - loss: 60.6549 - val_loss: 66.0479\n",
      "Epoch 37/50\n",
      "504/504 [==============================] - 0s 115us/step - loss: 54.2427 - val_loss: 62.4140\n",
      "Epoch 38/50\n",
      "504/504 [==============================] - 0s 123us/step - loss: 53.3934 - val_loss: 64.0036\n",
      "Epoch 39/50\n",
      "504/504 [==============================] - 0s 147us/step - loss: 52.6880 - val_loss: 76.1582\n",
      "Epoch 40/50\n",
      "504/504 [==============================] - 0s 111us/step - loss: 51.5128 - val_loss: 58.0443\n",
      "Epoch 41/50\n",
      "504/504 [==============================] - 0s 93us/step - loss: 51.1585 - val_loss: 57.3961\n",
      "Epoch 42/50\n",
      "504/504 [==============================] - 0s 114us/step - loss: 49.6402 - val_loss: 107.9315\n",
      "Epoch 43/50\n",
      "504/504 [==============================] - 0s 114us/step - loss: 61.9028 - val_loss: 72.1287\n",
      "Epoch 44/50\n",
      "504/504 [==============================] - 0s 120us/step - loss: 55.6318 - val_loss: 59.6394\n",
      "Epoch 45/50\n",
      "504/504 [==============================] - 0s 117us/step - loss: 60.4501 - val_loss: 75.2583\n",
      "Epoch 46/50\n",
      "504/504 [==============================] - 0s 118us/step - loss: 57.4241 - val_loss: 70.8608\n",
      "Epoch 47/50\n",
      "504/504 [==============================] - 0s 116us/step - loss: 57.8911 - val_loss: 66.9171\n",
      "Epoch 48/50\n",
      "504/504 [==============================] - 0s 117us/step - loss: 52.0904 - val_loss: 66.3470\n",
      "Epoch 49/50\n",
      "504/504 [==============================] - 0s 152us/step - loss: 49.5213 - val_loss: 55.0739\n",
      "Epoch 50/50\n",
      "504/504 [==============================] - 0s 122us/step - loss: 47.7630 - val_loss: 55.0719\n"
     ]
    },
    {
     "data": {
      "text/plain": [
       "<keras.callbacks.History at 0x7f84f936da50>"
      ]
     },
     "execution_count": 16,
     "metadata": {},
     "output_type": "execute_result"
    }
   ],
   "source": [
    "model.fit(X_train, y_train , validation_split = 0.3 , epochs = 50 , verbose = 1)"
   ]
  },
  {
   "cell_type": "markdown",
   "id": "669e6dc6-4e0d-43e0-801a-ba23937722cb",
   "metadata": {},
   "source": [
    "let's evaluate the model on test data"
   ]
  },
  {
   "cell_type": "code",
   "execution_count": 17,
   "id": "97e98267-23e6-4c4f-a00e-d62afd012e07",
   "metadata": {},
   "outputs": [
    {
     "name": "stdout",
     "output_type": "stream",
     "text": [
      "309/309 [==============================] - 0s 46us/step\n"
     ]
    },
    {
     "data": {
      "text/plain": [
       "56.007336020855455"
      ]
     },
     "execution_count": 17,
     "metadata": {},
     "output_type": "execute_result"
    }
   ],
   "source": [
    "loss_val = model.evaluate(X_test, y_test)\n",
    "y_pred = model.predict(X_test)\n",
    "loss_val"
   ]
  },
  {
   "cell_type": "markdown",
   "id": "9cc1bb57-e4f9-4462-845d-9d5feca0faba",
   "metadata": {},
   "source": [
    "Now we need to compute the mean squared error between the predicted concrete strength and the actual concrete strength.\n",
    "\n",
    "Let's import the mean_squared_error function from Scikit-learn."
   ]
  },
  {
   "cell_type": "code",
   "execution_count": 18,
   "id": "f98ab9c0-addc-4337-b65b-0c9a93db38d5",
   "metadata": {},
   "outputs": [],
   "source": [
    "from sklearn.metrics import mean_squared_error"
   ]
  },
  {
   "cell_type": "code",
   "execution_count": 19,
   "id": "bd2decf3-88ce-49d1-9189-1d44197bb1a0",
   "metadata": {},
   "outputs": [
    {
     "data": {
      "text/plain": [
       "56.007335472400044"
      ]
     },
     "execution_count": 19,
     "metadata": {},
     "output_type": "execute_result"
    }
   ],
   "source": [
    "mean_square_error = mean_squared_error(y_test, y_pred)\n",
    "mean = np.mean(mean_square_error)\n",
    "mean"
   ]
  },
  {
   "cell_type": "code",
   "execution_count": 20,
   "id": "98b7188d-d594-4e51-9187-3e19ec6c48d9",
   "metadata": {},
   "outputs": [
    {
     "data": {
      "text/plain": [
       "0.0"
      ]
     },
     "execution_count": 20,
     "metadata": {},
     "output_type": "execute_result"
    }
   ],
   "source": [
    "stdv = np.std(mean_square_error)\n",
    "stdv"
   ]
  },
  {
   "cell_type": "markdown",
   "id": "931cfe3d-2025-45a3-b93f-487407ad2810",
   "metadata": {},
   "source": [
    "Create a list of 50 mean squared errors and report mean and the standard deviation of the mean squared errors."
   ]
  },
  {
   "cell_type": "code",
   "execution_count": 21,
   "id": "654d1b4e-ceb7-46d1-b0e3-0ce8ad251e43",
   "metadata": {},
   "outputs": [
    {
     "name": "stdout",
     "output_type": "stream",
     "text": [
      "MSE: 1: 50.60162437463656\n",
      "MSE: 2: 57.41896821302889\n",
      "MSE: 3: 39.93113815900192\n",
      "MSE: 4: 35.51049256556242\n",
      "MSE: 5: 31.420360849127416\n",
      "MSE: 6: 32.61778876542274\n",
      "MSE: 7: 32.99858759907843\n",
      "MSE: 8: 26.017011741218443\n",
      "MSE: 9: 42.44207800707771\n",
      "MSE: 10: 28.66750970858972\n",
      "MSE: 11: 32.65300791471907\n",
      "MSE: 12: 22.020242493515262\n",
      "MSE: 13: 41.73900904238803\n",
      "MSE: 14: 29.905015914571322\n",
      "MSE: 15: 26.877096663786755\n",
      "MSE: 16: 22.794898986816406\n",
      "MSE: 17: 25.46927657636624\n",
      "MSE: 18: 26.970497010980996\n",
      "MSE: 19: 23.843159974971634\n",
      "MSE: 20: 26.330550011693468\n",
      "MSE: 21: 23.77746933254995\n",
      "MSE: 22: 20.56976985622764\n",
      "MSE: 23: 19.476850176320493\n",
      "MSE: 24: 22.851651916997717\n",
      "MSE: 25: 25.907786995847633\n",
      "MSE: 26: 25.779620642800932\n",
      "MSE: 27: 22.297190996435468\n",
      "MSE: 28: 21.748051115610068\n",
      "MSE: 29: 28.903832759672\n",
      "MSE: 30: 19.204561029823083\n",
      "MSE: 31: 20.69127698237842\n",
      "MSE: 32: 28.2792323276063\n",
      "MSE: 33: 14.97818055199188\n",
      "MSE: 34: 21.18544728547624\n",
      "MSE: 35: 18.473531784748953\n",
      "MSE: 36: 21.21547198064119\n",
      "MSE: 37: 22.41068312573973\n",
      "MSE: 38: 21.758792352522075\n",
      "MSE: 39: 21.3001467325155\n",
      "MSE: 40: 16.08739706613485\n",
      "MSE: 41: 16.211434256297483\n",
      "MSE: 42: 20.29675039272864\n",
      "MSE: 43: 17.034592721068744\n",
      "MSE: 44: 19.6295174780787\n",
      "MSE: 45: 20.309668099610164\n",
      "MSE: 46: 17.794436081327667\n",
      "MSE: 47: 22.402601828467112\n",
      "MSE: 48: 16.493890990717126\n",
      "MSE: 49: 17.63909289289061\n",
      "MSE: 50: 17.48657990119218\n"
     ]
    }
   ],
   "source": [
    "\n",
    "mean_squared_errors = list()\n",
    "total_mean_square_errors = 50 \n",
    "epochs = 50\n",
    "for i in range(0, total_mean_square_errors):\n",
    "    X_train, X_test , y_train , y_test = train_test_split(predictors, target, random_state = i, test_size = 0.3) \n",
    "    model.fit(X_train, y_train , validation_split = 0.3 , epochs = epochs , verbose = 0)\n",
    "    MSE = model.evaluate(X_test, y_test, verbose = 0)\n",
    "    print(\"MSE: \"+str(i+1)+\": \"+str(MSE))\n",
    "    y_pred = model.predict(X_test)\n",
    "    mean_square_error = mean_squared_error(y_test, y_pred)\n",
    "    mean_squared_errors.append(mean_square_error)\n",
    "\n",
    "mean_squared_errors = np.array(mean_squared_errors)\n",
    "mean = np.mean(mean_squared_errors)\n",
    "standard_deviation = np.std(mean_squared_errors)"
   ]
  },
  {
   "cell_type": "code",
   "execution_count": 22,
   "id": "5645aae7-ba07-498d-ae6f-9614c21de4b0",
   "metadata": {},
   "outputs": [
    {
     "name": "stdout",
     "output_type": "stream",
     "text": [
      "\n",
      "\n",
      "Below is the mean and standard deviation of 50 mean squared errors without normalized data. Total number of epochs for each training is: 50\n",
      "\n",
      "Mean: 25.568476215626156\n",
      "Standard Deviation: 8.699613866363391\n"
     ]
    }
   ],
   "source": [
    "print('\\n')\n",
    "print(\"Below is the mean and standard deviation of \" +str(total_mean_square_errors) + \" mean squared errors without normalized data. Total number of epochs for each training is: \" +str(epochs) + \"\\n\")\n",
    "print(\"Mean: \"+str(mean))\n",
    "print(\"Standard Deviation: \"+str(standard_deviation))"
   ]
  }
 ],
 "metadata": {
  "kernelspec": {
   "display_name": "Python",
   "language": "python",
   "name": "conda-env-python-py"
  },
  "language_info": {
   "codemirror_mode": {
    "name": "ipython",
    "version": 3
   },
   "file_extension": ".py",
   "mimetype": "text/x-python",
   "name": "python",
   "nbconvert_exporter": "python",
   "pygments_lexer": "ipython3",
   "version": "3.7.12"
  }
 },
 "nbformat": 4,
 "nbformat_minor": 5
}
